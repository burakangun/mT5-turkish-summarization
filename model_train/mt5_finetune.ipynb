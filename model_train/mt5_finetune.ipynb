{
  "cells": [
    {
      "cell_type": "code",
      "source": [
        "!pip install datasets"
      ],
      "metadata": {
        "colab": {
          "base_uri": "https://localhost:8080/"
        },
        "id": "2Sq8j-TtSJNL",
        "outputId": "a85e637d-fffe-4be9-9799-d035640d67d3"
      },
      "execution_count": 1,
      "outputs": [
        {
          "output_type": "stream",
          "name": "stdout",
          "text": [
            "Collecting datasets\n",
            "  Downloading datasets-3.5.0-py3-none-any.whl.metadata (19 kB)\n",
            "Requirement already satisfied: filelock in /usr/local/lib/python3.11/dist-packages (from datasets) (3.18.0)\n",
            "Requirement already satisfied: numpy>=1.17 in /usr/local/lib/python3.11/dist-packages (from datasets) (2.0.2)\n",
            "Requirement already satisfied: pyarrow>=15.0.0 in /usr/local/lib/python3.11/dist-packages (from datasets) (18.1.0)\n",
            "Collecting dill<0.3.9,>=0.3.0 (from datasets)\n",
            "  Downloading dill-0.3.8-py3-none-any.whl.metadata (10 kB)\n",
            "Requirement already satisfied: pandas in /usr/local/lib/python3.11/dist-packages (from datasets) (2.2.2)\n",
            "Requirement already satisfied: requests>=2.32.2 in /usr/local/lib/python3.11/dist-packages (from datasets) (2.32.3)\n",
            "Requirement already satisfied: tqdm>=4.66.3 in /usr/local/lib/python3.11/dist-packages (from datasets) (4.67.1)\n",
            "Collecting xxhash (from datasets)\n",
            "  Downloading xxhash-3.5.0-cp311-cp311-manylinux_2_17_x86_64.manylinux2014_x86_64.whl.metadata (12 kB)\n",
            "Collecting multiprocess<0.70.17 (from datasets)\n",
            "  Downloading multiprocess-0.70.16-py311-none-any.whl.metadata (7.2 kB)\n",
            "Collecting fsspec<=2024.12.0,>=2023.1.0 (from fsspec[http]<=2024.12.0,>=2023.1.0->datasets)\n",
            "  Downloading fsspec-2024.12.0-py3-none-any.whl.metadata (11 kB)\n",
            "Requirement already satisfied: aiohttp in /usr/local/lib/python3.11/dist-packages (from datasets) (3.11.14)\n",
            "Requirement already satisfied: huggingface-hub>=0.24.0 in /usr/local/lib/python3.11/dist-packages (from datasets) (0.29.3)\n",
            "Requirement already satisfied: packaging in /usr/local/lib/python3.11/dist-packages (from datasets) (24.2)\n",
            "Requirement already satisfied: pyyaml>=5.1 in /usr/local/lib/python3.11/dist-packages (from datasets) (6.0.2)\n",
            "Requirement already satisfied: aiohappyeyeballs>=2.3.0 in /usr/local/lib/python3.11/dist-packages (from aiohttp->datasets) (2.6.1)\n",
            "Requirement already satisfied: aiosignal>=1.1.2 in /usr/local/lib/python3.11/dist-packages (from aiohttp->datasets) (1.3.2)\n",
            "Requirement already satisfied: attrs>=17.3.0 in /usr/local/lib/python3.11/dist-packages (from aiohttp->datasets) (25.3.0)\n",
            "Requirement already satisfied: frozenlist>=1.1.1 in /usr/local/lib/python3.11/dist-packages (from aiohttp->datasets) (1.5.0)\n",
            "Requirement already satisfied: multidict<7.0,>=4.5 in /usr/local/lib/python3.11/dist-packages (from aiohttp->datasets) (6.2.0)\n",
            "Requirement already satisfied: propcache>=0.2.0 in /usr/local/lib/python3.11/dist-packages (from aiohttp->datasets) (0.3.0)\n",
            "Requirement already satisfied: yarl<2.0,>=1.17.0 in /usr/local/lib/python3.11/dist-packages (from aiohttp->datasets) (1.18.3)\n",
            "Requirement already satisfied: typing-extensions>=3.7.4.3 in /usr/local/lib/python3.11/dist-packages (from huggingface-hub>=0.24.0->datasets) (4.12.2)\n",
            "Requirement already satisfied: charset-normalizer<4,>=2 in /usr/local/lib/python3.11/dist-packages (from requests>=2.32.2->datasets) (3.4.1)\n",
            "Requirement already satisfied: idna<4,>=2.5 in /usr/local/lib/python3.11/dist-packages (from requests>=2.32.2->datasets) (3.10)\n",
            "Requirement already satisfied: urllib3<3,>=1.21.1 in /usr/local/lib/python3.11/dist-packages (from requests>=2.32.2->datasets) (2.3.0)\n",
            "Requirement already satisfied: certifi>=2017.4.17 in /usr/local/lib/python3.11/dist-packages (from requests>=2.32.2->datasets) (2025.1.31)\n",
            "Requirement already satisfied: python-dateutil>=2.8.2 in /usr/local/lib/python3.11/dist-packages (from pandas->datasets) (2.8.2)\n",
            "Requirement already satisfied: pytz>=2020.1 in /usr/local/lib/python3.11/dist-packages (from pandas->datasets) (2025.1)\n",
            "Requirement already satisfied: tzdata>=2022.7 in /usr/local/lib/python3.11/dist-packages (from pandas->datasets) (2025.1)\n",
            "Requirement already satisfied: six>=1.5 in /usr/local/lib/python3.11/dist-packages (from python-dateutil>=2.8.2->pandas->datasets) (1.17.0)\n",
            "Downloading datasets-3.5.0-py3-none-any.whl (491 kB)\n",
            "\u001b[2K   \u001b[90m━━━━━━━━━━━━━━━━━━━━━━━━━━━━━━━━━━━━━━━━\u001b[0m \u001b[32m491.2/491.2 kB\u001b[0m \u001b[31m23.9 MB/s\u001b[0m eta \u001b[36m0:00:00\u001b[0m\n",
            "\u001b[?25hDownloading dill-0.3.8-py3-none-any.whl (116 kB)\n",
            "\u001b[2K   \u001b[90m━━━━━━━━━━━━━━━━━━━━━━━━━━━━━━━━━━━━━━━━\u001b[0m \u001b[32m116.3/116.3 kB\u001b[0m \u001b[31m8.8 MB/s\u001b[0m eta \u001b[36m0:00:00\u001b[0m\n",
            "\u001b[?25hDownloading fsspec-2024.12.0-py3-none-any.whl (183 kB)\n",
            "\u001b[2K   \u001b[90m━━━━━━━━━━━━━━━━━━━━━━━━━━━━━━━━━━━━━━━━\u001b[0m \u001b[32m183.9/183.9 kB\u001b[0m \u001b[31m13.8 MB/s\u001b[0m eta \u001b[36m0:00:00\u001b[0m\n",
            "\u001b[?25hDownloading multiprocess-0.70.16-py311-none-any.whl (143 kB)\n",
            "\u001b[2K   \u001b[90m━━━━━━━━━━━━━━━━━━━━━━━━━━━━━━━━━━━━━━━━\u001b[0m \u001b[32m143.5/143.5 kB\u001b[0m \u001b[31m11.3 MB/s\u001b[0m eta \u001b[36m0:00:00\u001b[0m\n",
            "\u001b[?25hDownloading xxhash-3.5.0-cp311-cp311-manylinux_2_17_x86_64.manylinux2014_x86_64.whl (194 kB)\n",
            "\u001b[2K   \u001b[90m━━━━━━━━━━━━━━━━━━━━━━━━━━━━━━━━━━━━━━━━\u001b[0m \u001b[32m194.8/194.8 kB\u001b[0m \u001b[31m14.2 MB/s\u001b[0m eta \u001b[36m0:00:00\u001b[0m\n",
            "\u001b[?25hInstalling collected packages: xxhash, fsspec, dill, multiprocess, datasets\n",
            "  Attempting uninstall: fsspec\n",
            "    Found existing installation: fsspec 2025.3.0\n",
            "    Uninstalling fsspec-2025.3.0:\n",
            "      Successfully uninstalled fsspec-2025.3.0\n",
            "\u001b[31mERROR: pip's dependency resolver does not currently take into account all the packages that are installed. This behaviour is the source of the following dependency conflicts.\n",
            "torch 2.6.0+cu124 requires nvidia-cublas-cu12==12.4.5.8; platform_system == \"Linux\" and platform_machine == \"x86_64\", but you have nvidia-cublas-cu12 12.5.3.2 which is incompatible.\n",
            "torch 2.6.0+cu124 requires nvidia-cuda-cupti-cu12==12.4.127; platform_system == \"Linux\" and platform_machine == \"x86_64\", but you have nvidia-cuda-cupti-cu12 12.5.82 which is incompatible.\n",
            "torch 2.6.0+cu124 requires nvidia-cuda-nvrtc-cu12==12.4.127; platform_system == \"Linux\" and platform_machine == \"x86_64\", but you have nvidia-cuda-nvrtc-cu12 12.5.82 which is incompatible.\n",
            "torch 2.6.0+cu124 requires nvidia-cuda-runtime-cu12==12.4.127; platform_system == \"Linux\" and platform_machine == \"x86_64\", but you have nvidia-cuda-runtime-cu12 12.5.82 which is incompatible.\n",
            "torch 2.6.0+cu124 requires nvidia-cudnn-cu12==9.1.0.70; platform_system == \"Linux\" and platform_machine == \"x86_64\", but you have nvidia-cudnn-cu12 9.3.0.75 which is incompatible.\n",
            "torch 2.6.0+cu124 requires nvidia-cufft-cu12==11.2.1.3; platform_system == \"Linux\" and platform_machine == \"x86_64\", but you have nvidia-cufft-cu12 11.2.3.61 which is incompatible.\n",
            "torch 2.6.0+cu124 requires nvidia-curand-cu12==10.3.5.147; platform_system == \"Linux\" and platform_machine == \"x86_64\", but you have nvidia-curand-cu12 10.3.6.82 which is incompatible.\n",
            "torch 2.6.0+cu124 requires nvidia-cusolver-cu12==11.6.1.9; platform_system == \"Linux\" and platform_machine == \"x86_64\", but you have nvidia-cusolver-cu12 11.6.3.83 which is incompatible.\n",
            "torch 2.6.0+cu124 requires nvidia-cusparse-cu12==12.3.1.170; platform_system == \"Linux\" and platform_machine == \"x86_64\", but you have nvidia-cusparse-cu12 12.5.1.3 which is incompatible.\n",
            "torch 2.6.0+cu124 requires nvidia-nvjitlink-cu12==12.4.127; platform_system == \"Linux\" and platform_machine == \"x86_64\", but you have nvidia-nvjitlink-cu12 12.5.82 which is incompatible.\n",
            "gcsfs 2025.3.0 requires fsspec==2025.3.0, but you have fsspec 2024.12.0 which is incompatible.\u001b[0m\u001b[31m\n",
            "\u001b[0mSuccessfully installed datasets-3.5.0 dill-0.3.8 fsspec-2024.12.0 multiprocess-0.70.16 xxhash-3.5.0\n"
          ]
        }
      ]
    },
    {
      "cell_type": "code",
      "execution_count": 2,
      "metadata": {
        "id": "ekY1xSZaPV6x"
      },
      "outputs": [],
      "source": [
        "import tensorflow as tf\n",
        "from datasets import load_dataset\n",
        "from transformers import TFMT5ForConditionalGeneration, MT5Tokenizer, DataCollatorForSeq2Seq\n",
        "from tensorflow.keras.optimizers import Adam\n"
      ]
    },
    {
      "cell_type": "code",
      "execution_count": 3,
      "metadata": {
        "id": "AnCFjnROPV6z",
        "colab": {
          "base_uri": "https://localhost:8080/"
        },
        "outputId": "051a02c3-c7de-45e8-f67f-6430cb80322c"
      },
      "outputs": [
        {
          "output_type": "error",
          "ename": "NameError",
          "evalue": "name 'AutoTokenizer' is not defined",
          "traceback": [
            "\u001b[0;31m---------------------------------------------------------------------------\u001b[0m",
            "\u001b[0;31mNameError\u001b[0m                                 Traceback (most recent call last)",
            "\u001b[0;32m<ipython-input-3-e29db3bee8a0>\u001b[0m in \u001b[0;36m<cell line: 0>\u001b[0;34m()\u001b[0m\n\u001b[0;32m----> 1\u001b[0;31m \u001b[0mtokenizer\u001b[0m \u001b[0;34m=\u001b[0m \u001b[0mAutoTokenizer\u001b[0m\u001b[0;34m.\u001b[0m\u001b[0mfrom_pretrained\u001b[0m\u001b[0;34m(\u001b[0m\u001b[0;34m\"google/mt5-small\"\u001b[0m\u001b[0;34m,\u001b[0m \u001b[0muse_fast\u001b[0m\u001b[0;34m=\u001b[0m\u001b[0;32mFalse\u001b[0m\u001b[0;34m)\u001b[0m\u001b[0;34m\u001b[0m\u001b[0;34m\u001b[0m\u001b[0m\n\u001b[0m\u001b[1;32m      2\u001b[0m \u001b[0mmodel\u001b[0m \u001b[0;34m=\u001b[0m \u001b[0mAutoModelForSeq2SeqLM\u001b[0m\u001b[0;34m.\u001b[0m\u001b[0mfrom_pretrained\u001b[0m\u001b[0;34m(\u001b[0m\u001b[0;34m\"google/mt5-small\"\u001b[0m\u001b[0;34m)\u001b[0m\u001b[0;34m\u001b[0m\u001b[0;34m\u001b[0m\u001b[0m\n",
            "\u001b[0;31mNameError\u001b[0m: name 'AutoTokenizer' is not defined"
          ]
        }
      ],
      "source": [
        "tokenizer = AutoTokenizer.from_pretrained(\"google/mt5-small\", use_fast=False)\n",
        "model = AutoModelForSeq2SeqLM.from_pretrained(\"google/mt5-small\")"
      ]
    },
    {
      "cell_type": "code",
      "execution_count": 2,
      "metadata": {
        "colab": {
          "base_uri": "https://localhost:8080/"
        },
        "id": "r5pNjX-tPV61",
        "outputId": "7f461329-c902-414a-b86c-8b522d2c900b"
      },
      "outputs": [
        {
          "output_type": "stream",
          "name": "stdout",
          "text": [
            "Validation dataset columns: ['\\ufeffarticle', 'highlights']\n",
            "Updated Validation dataset columns: ['article', 'highlights']\n",
            "DatasetDict({\n",
            "    train: Dataset({\n",
            "        features: ['article', 'highlights'],\n",
            "        num_rows: 19519\n",
            "    })\n",
            "    validation: Dataset({\n",
            "        features: ['article', 'highlights'],\n",
            "        num_rows: 1400\n",
            "    })\n",
            "})\n"
          ]
        },
        {
          "output_type": "execute_result",
          "data": {
            "text/plain": [
              "'from statistics import mean\\n\\n# Train datasetindeki article ve highlights sütunlarını al\\narticles = combined_datasets[\"train\"][\"article\"]\\nhighlights = combined_datasets[\"train\"][\"highlights\"]\\n\\n# Her bir metni tokenize edip uzunluklarını hesapla\\narticle_lengths = [len(tokenizer.tokenize(text)) for text in articles]\\nhighlight_lengths = [len(tokenizer.tokenize(text)) for text in highlights]\\n\\n# Ortalama uzunluğu hesapla\\navg_article_length = round(mean(article_lengths))\\navg_highlight_length = round(mean(highlight_lengths))\\n\\nprint(f\"📌 Ortalama Article Uzunluğu: {avg_article_length} token\")\\nprint(f\"📌 Ortalama Highlights Uzunluğu: {avg_highlight_length} token\")'"
            ],
            "application/vnd.google.colaboratory.intrinsic+json": {
              "type": "string"
            }
          },
          "metadata": {},
          "execution_count": 2
        }
      ],
      "source": [
        "from datasets import Dataset, DatasetDict\n",
        "import pandas as pd\n",
        "import csv\n",
        "\n",
        "train_df = pd.read_csv(\"/content/translated_train.csv\", sep=None, engine=\"python\", on_bad_lines='skip')\n",
        "validation_df = pd.read_csv(\"/content/translated_test.csv\", sep=None, engine=\"python\", on_bad_lines='skip')\n",
        "\n",
        "\n",
        "\n",
        "# Pandas DataFrame'leri Hugging Face Dataset formatına çevirme\n",
        "train_dataset = Dataset.from_pandas(train_df)\n",
        "validation_dataset = Dataset.from_pandas(validation_df)\n",
        "\n",
        "# 📌 Eğitim veri setinin tamamını kullanmak istersen:\n",
        "# combined_datasets = DatasetDict({\n",
        "#     \"train\": train_dataset,\n",
        "#     \"test\": test_dataset\n",
        "# })\n",
        "\n",
        "# Hugging Face DatasetDict oluşturma\n",
        "combined_datasets = DatasetDict({\n",
        "    \"train\": train_dataset,\n",
        "    \"validation\": validation_dataset\n",
        "})\n",
        "# Mevcut sütun isimlerini kontrol et\n",
        "print(\"Validation dataset columns:\", combined_datasets[\"validation\"].column_names)\n",
        "\n",
        "# Sütun ismini değiştirmek için:\n",
        "combined_datasets[\"validation\"] = combined_datasets[\"validation\"].rename_column(\"\\ufeffarticle\", \"article\")\n",
        "\n",
        "# Tekrar kontrol et\n",
        "print(\"Updated Validation dataset columns:\", combined_datasets[\"validation\"].column_names)\n",
        "\n",
        "\n",
        "# Sonuçları kontrol et\n",
        "print(combined_datasets)\n",
        "\n",
        "'''from statistics import mean\n",
        "\n",
        "# Train datasetindeki article ve highlights sütunlarını al\n",
        "articles = combined_datasets[\"train\"][\"article\"]\n",
        "highlights = combined_datasets[\"train\"][\"highlights\"]\n",
        "\n",
        "# Her bir metni tokenize edip uzunluklarını hesapla\n",
        "article_lengths = [len(tokenizer.tokenize(text)) for text in articles]\n",
        "highlight_lengths = [len(tokenizer.tokenize(text)) for text in highlights]\n",
        "\n",
        "# Ortalama uzunluğu hesapla\n",
        "avg_article_length = round(mean(article_lengths))\n",
        "avg_highlight_length = round(mean(highlight_lengths))\n",
        "\n",
        "print(f\"📌 Ortalama Article Uzunluğu: {avg_article_length} token\")\n",
        "print(f\"📌 Ortalama Highlights Uzunluğu: {avg_highlight_length} token\")'''\n"
      ]
    },
    {
      "cell_type": "code",
      "execution_count": 1,
      "metadata": {
        "colab": {
          "base_uri": "https://localhost:8080/"
        },
        "id": "ympBvHoxPV64",
        "outputId": "8718e7f6-38e0-4c8b-8068-dfa3d4eca5b2"
      },
      "outputs": [
        {
          "output_type": "error",
          "ename": "NameError",
          "evalue": "name 'combined_datasets' is not defined",
          "traceback": [
            "\u001b[0;31m---------------------------------------------------------------------------\u001b[0m",
            "\u001b[0;31mNameError\u001b[0m                                 Traceback (most recent call last)",
            "\u001b[0;32m<ipython-input-1-0349b8700bf2>\u001b[0m in \u001b[0;36m<cell line: 0>\u001b[0;34m()\u001b[0m\n\u001b[1;32m     50\u001b[0m \u001b[0;34m\u001b[0m\u001b[0m\n\u001b[1;32m     51\u001b[0m \u001b[0;31m# 🔹 Veriyi tokenize et, hatalı satırları çıkar\u001b[0m\u001b[0;34m\u001b[0m\u001b[0;34m\u001b[0m\u001b[0m\n\u001b[0;32m---> 52\u001b[0;31m tokenized_ds = combined_datasets.map(\n\u001b[0m\u001b[1;32m     53\u001b[0m     \u001b[0mtokenize_sample_data\u001b[0m\u001b[0;34m,\u001b[0m\u001b[0;34m\u001b[0m\u001b[0;34m\u001b[0m\u001b[0m\n\u001b[1;32m     54\u001b[0m     \u001b[0mbatched\u001b[0m\u001b[0;34m=\u001b[0m\u001b[0;32mFalse\u001b[0m\u001b[0;34m,\u001b[0m  \u001b[0;31m# 🔥 Tek tek satır işleyerek hata yakalayalım\u001b[0m\u001b[0;34m\u001b[0m\u001b[0;34m\u001b[0m\u001b[0m\n",
            "\u001b[0;31mNameError\u001b[0m: name 'combined_datasets' is not defined"
          ]
        }
      ],
      "source": [
        "import numpy as np\n",
        "def tokenize_sample_data(data):\n",
        "    try:\n",
        "        # 🔹 Boş verileri kontrol et\n",
        "        if not data[\"article\"] or not data[\"highlights\"]:\n",
        "            return None  # Eğer boşsa, bu satırı atla\n",
        "\n",
        "        # 🔹 Article (Girdi) için tokenizasyon\n",
        "        input_feature = tokenizer(\n",
        "            data[\"article\"],\n",
        "            truncation=True,\n",
        "            max_length=1024,  # 1150 yerine 1024'e düşürüyoruz (daha güvenli)\n",
        "            padding=\"max_length\"\n",
        "        )\n",
        "\n",
        "        # 🔹 Highlights (Çıktı) için tokenizasyon - MT5 için özel olarak\n",
        "        with tokenizer.as_target_tokenizer():\n",
        "            label = tokenizer(\n",
        "                data[\"highlights\"],\n",
        "                truncation=True,\n",
        "                max_length=128,\n",
        "                padding=\"max_length\"\n",
        "            )\n",
        "\n",
        "        # 🔹 Token listesi boş mu kontrol et\n",
        "        if len(input_feature[\"input_ids\"]) == 0 or len(label[\"input_ids\"]) == 0:\n",
        "            print(f\"⚠️ Boş token listesi bulunan veri: {data}\")\n",
        "            return None  # Hatalı satırları atla\n",
        "\n",
        "        # 🔹 Token ID'leri sınırını kontrol et (MT5 için vocab size kontrolü)\n",
        "        if max(input_feature[\"input_ids\"]) >= tokenizer.vocab_size or max(label[\"input_ids\"]) >= tokenizer.vocab_size:\n",
        "            print(f\"⚠️ Token ID sınır dışı: Girdi max={max(input_feature['input_ids'])}, Çıktı max={max(label['input_ids'])}, Vocab size={tokenizer.vocab_size}\")\n",
        "            return None  # Sınır dışı token ID'leri içeren verileri atla\n",
        "\n",
        "        # 🔹 Padding token'ları -100 ile değiştir (loss hesaplanmaması için)\n",
        "        labels = np.array(label[\"input_ids\"])\n",
        "        # MT5 için pad token genellikle 0'dır, kontrol ederek değiştirin\n",
        "        pad_token_id = tokenizer.pad_token_id if tokenizer.pad_token_id is not None else 0\n",
        "        labels[labels == pad_token_id] = -100\n",
        "\n",
        "        return {\n",
        "            \"input_ids\": input_feature[\"input_ids\"],\n",
        "            \"attention_mask\": input_feature[\"attention_mask\"],\n",
        "            \"labels\": labels.tolist(),  # numpy array'i listeye çevir\n",
        "        }\n",
        "    except Exception as e:\n",
        "        print(f\"⚠️ Hata veren veri: {data}\\nHata: {str(e)}\")\n",
        "        return None  # Hata varsa satırı atla\n",
        "\n",
        "\n",
        "# 🔹 Veriyi tokenize et, hatalı satırları çıkar\n",
        "tokenized_ds = combined_datasets.map(\n",
        "    tokenize_sample_data,\n",
        "    batched=False,  # 🔥 Tek tek satır işleyerek hata yakalayalım\n",
        "    remove_columns=combined_datasets[\"train\"].column_names  # Orijinal sütunları kaldır\n",
        ")\n"
      ]
    },
    {
      "cell_type": "code",
      "source": [
        "example_text = \"Ne desem bilemedim insanlar çok garip. Jackson bir numaralı ajanımız\"\n",
        "tokenized_example = tokenizer(example_text)\n",
        "\n",
        "print(tokenized_example[\"input_ids\"])\n",
        "print(f\"Max token ID: {max(tokenized_example['input_ids'])}, Tokenizer vocab size: {tokenizer.vocab_size}\")\n"
      ],
      "metadata": {
        "id": "QQoUimVUwxxh",
        "outputId": "98539a70-9520-4102-9009-81cc1b634036",
        "colab": {
          "base_uri": "https://localhost:8080/"
        }
      },
      "execution_count": 9,
      "outputs": [
        {
          "output_type": "stream",
          "name": "stdout",
          "text": [
            "[1648, 498, 470, 3871, 221201, 29425, 259, 3803, 121135, 325, 260, 32614, 698, 79878, 2555, 44311, 40885, 1]\n",
            "Max token ID: 221201, Tokenizer vocab size: 250100\n"
          ]
        }
      ]
    },
    {
      "cell_type": "code",
      "source": [
        "# 🔹 Boş veya hatalı satırları bul\n",
        "def check_validation_set(dataset):\n",
        "    for i, data in enumerate(dataset):\n",
        "        try:\n",
        "            if not data[\"article\"] or not data[\"highlights\"]:\n",
        "                print(f\"⚠️ Boş satır bulundu (Index: {i}): {data}\")\n",
        "\n",
        "            # 🔹 Tokenizer ile kontrol et\n",
        "            tokenized = tokenizer(data[\"article\"], truncation=True, max_length=1150)\n",
        "            if len(tokenized[\"input_ids\"]) == 0:\n",
        "                print(f\"⚠️ Boş token listesi! (Index: {i}): {data['article']}\")\n",
        "        except Exception as e:\n",
        "            print(f\"⚠️ Hata veren veri (Index {i}): {data}\\nHata: {str(e)}\")\n",
        "\n",
        "# Validation seti kontrol et\n",
        "check_validation_set(combined_datasets[\"validation\"])\n"
      ],
      "metadata": {
        "id": "sZ8h96WC0sor"
      },
      "execution_count": 10,
      "outputs": []
    },
    {
      "cell_type": "code",
      "source": [
        "def clean_validation_set(dataset):\n",
        "    cleaned_data = []\n",
        "    for data in dataset:\n",
        "        try:\n",
        "            if not data[\"article\"] or not data[\"highlights\"]:\n",
        "                continue  # Boş satırları atla\n",
        "\n",
        "            # Tokenizasyonu dene\n",
        "            tokenized = tokenizer(data[\"article\"], truncation=True, max_length=1150)\n",
        "            if len(tokenized[\"input_ids\"]) == 0:\n",
        "                continue  # Tokenizasyon başarısızsa atla\n",
        "\n",
        "            cleaned_data.append(data)\n",
        "        except Exception:\n",
        "            continue  # Hata varsa satırı atla\n",
        "\n",
        "    return Dataset.from_list(cleaned_data)\n",
        "\n",
        "# Validation dataset'i temizle\n",
        "combined_datasets[\"validation\"] = clean_validation_set(combined_datasets[\"validation\"])\n",
        "print(f\"✅ Temizlenmiş validation seti boyutu: {len(combined_datasets['validation'])}\")\n"
      ],
      "metadata": {
        "id": "hwzjM1go0xVC",
        "outputId": "38f0b11b-7021-4777-984c-6c8a10ef1dd4",
        "colab": {
          "base_uri": "https://localhost:8080/"
        }
      },
      "execution_count": 11,
      "outputs": [
        {
          "output_type": "stream",
          "name": "stdout",
          "text": [
            "✅ Temizlenmiş validation seti boyutu: 1400\n"
          ]
        }
      ]
    },
    {
      "cell_type": "code",
      "execution_count": 52,
      "metadata": {
        "colab": {
          "base_uri": "https://localhost:8080/",
          "height": 165
        },
        "id": "hQwKEJ42PV65",
        "outputId": "65bb6955-c58c-42fd-f8f2-1a28a5a09e8b"
      },
      "outputs": [
        {
          "output_type": "execute_result",
          "data": {
            "text/plain": [
              "'\\n\\nfrom transformers import MT5Tokenizer, MT5ForConditionalGeneration\\n\\n# 1. Tokenizer ve modelin yüklenmesi\\nmodel_name = \"google/mt5-small\"\\ntokenizer = MT5Tokenizer.from_pretrained(model_name)\\nmodel = MT5ForConditionalGeneration.from_pretrained(model_name)\\n\\n# 2. Özetlenmek istenen Türkçe metin\\nturkish_text = \"\"\"\\nİklim değişikliği, küresel sıcaklıkların artışıyla birlikte ortaya çıkan çevresel, sosyal ve ekonomik sorunlara neden olmaktadır.\\nÖzellikle kuraklık, sel ve orman yangınları gibi doğal afetlerin sıklığı artarken, tarımsal üretimde de ciddi düşüşler yaşanmaktadır.\\nBu durum, gıda güvenliğini tehdit etmekte ve toplumları olumsuz yönde etkilemektedir.\\n\"\"\"\\n\\n# 3. Özetleme için giriş formatı: \\'summarize:\\' ön ekini ekliyoruz\\ninput_text = f\"summarize: {turkish_text}\"\\n\\n# 4. Tokenizer ile metni encode etme\\ninput_ids = tokenizer.encode(input_text, return_tensors=\"pt\", max_length=512, truncation=True)\\n\\n# 5. Modeli kullanarak özetleme yapma\\nsummary_ids = model.generate(\\n    input_ids,\\n    max_length=150,\\n    min_length=30,\\n    length_penalty=2.0,\\n    num_beams=4,\\n    early_stopping=True\\n)\\n\\n# 6. Özetlenen metni decode etme\\nsummary = tokenizer.decode(summary_ids[0], skip_special_tokens=True)\\n\\n# 7. Sonucu yazdırma\\nprint(\"Özetlenen Metin:\")\\nprint(summary)\\n'"
            ],
            "application/vnd.google.colaboratory.intrinsic+json": {
              "type": "string"
            }
          },
          "metadata": {},
          "execution_count": 52
        }
      ],
      "source": [
        "'''\n",
        "\n",
        "from transformers import MT5Tokenizer, MT5ForConditionalGeneration\n",
        "\n",
        "# 1. Tokenizer ve modelin yüklenmesi\n",
        "model_name = \"google/mt5-small\"\n",
        "tokenizer = MT5Tokenizer.from_pretrained(model_name)\n",
        "model = MT5ForConditionalGeneration.from_pretrained(model_name)\n",
        "\n",
        "# 2. Özetlenmek istenen Türkçe metin\n",
        "turkish_text = \"\"\"\n",
        "İklim değişikliği, küresel sıcaklıkların artışıyla birlikte ortaya çıkan çevresel, sosyal ve ekonomik sorunlara neden olmaktadır.\n",
        "Özellikle kuraklık, sel ve orman yangınları gibi doğal afetlerin sıklığı artarken, tarımsal üretimde de ciddi düşüşler yaşanmaktadır.\n",
        "Bu durum, gıda güvenliğini tehdit etmekte ve toplumları olumsuz yönde etkilemektedir.\n",
        "\"\"\"\n",
        "\n",
        "# 3. Özetleme için giriş formatı: 'summarize:' ön ekini ekliyoruz\n",
        "input_text = f\"summarize: {turkish_text}\"\n",
        "\n",
        "# 4. Tokenizer ile metni encode etme\n",
        "input_ids = tokenizer.encode(input_text, return_tensors=\"pt\", max_length=512, truncation=True)\n",
        "\n",
        "# 5. Modeli kullanarak özetleme yapma\n",
        "summary_ids = model.generate(\n",
        "    input_ids,\n",
        "    max_length=150,\n",
        "    min_length=30,\n",
        "    length_penalty=2.0,\n",
        "    num_beams=4,\n",
        "    early_stopping=True\n",
        ")\n",
        "\n",
        "# 6. Özetlenen metni decode etme\n",
        "summary = tokenizer.decode(summary_ids[0], skip_special_tokens=True)\n",
        "\n",
        "# 7. Sonucu yazdırma\n",
        "print(\"Özetlenen Metin:\")\n",
        "print(summary)\n",
        "'''"
      ]
    },
    {
      "cell_type": "code",
      "execution_count": 13,
      "metadata": {
        "id": "Kvsu1jtiPV66",
        "outputId": "5a38d744-2781-4969-efe3-636d0f549758",
        "colab": {
          "base_uri": "https://localhost:8080/",
          "height": 81,
          "referenced_widgets": [
            "76b796132cd947bea281d9032308a4e9",
            "ec420e6f83004fb39067a66a9cb00faa",
            "39a13c3538914a51ad811762b1892579",
            "ff38e2e5202041f0a82facfb2ffe235c",
            "f50e613a023b47b98865297fadb1bca2",
            "2f56261663734e339ab144a5b3608aa5",
            "5da609ca6676414aaa22eedb684c3947",
            "cada2be81de04887a13eaff0de0645b0",
            "19a2522ac52944059148d2767c73e04a",
            "4baf215e30ef48c9b262c8f8287508be",
            "087fe867ecbd40e08b48ceeda5700aea",
            "45ea66bbb7074bce88d85a28cdeecae0",
            "b8f5141a5e8c4c32be65425225fb9d36",
            "ab125a6173fb4741a7d2751af6a5acee",
            "7f400c41addc433fbe056e3e273998b0",
            "d6637d24e2bc4fe0a1cd513b0048b73e",
            "b6967ce52f1b44e3ab1954303e53dc44",
            "5e3972eff03f4974ad17b18d95407b21",
            "563ae3b1d58b4ffb88b9969cc170910a",
            "7c2a2bcd6c4242688063e0d2d9d22451",
            "0e932316c1fd439faa36674cdb91af00",
            "128868e8457d454fa608dba35917997a"
          ]
        }
      },
      "outputs": [
        {
          "output_type": "display_data",
          "data": {
            "text/plain": [
              "pytorch_model.bin:   0%|          | 0.00/1.20G [00:00<?, ?B/s]"
            ],
            "application/vnd.jupyter.widget-view+json": {
              "version_major": 2,
              "version_minor": 0,
              "model_id": "76b796132cd947bea281d9032308a4e9"
            }
          },
          "metadata": {}
        },
        {
          "output_type": "display_data",
          "data": {
            "text/plain": [
              "generation_config.json:   0%|          | 0.00/147 [00:00<?, ?B/s]"
            ],
            "application/vnd.jupyter.widget-view+json": {
              "version_major": 2,
              "version_minor": 0,
              "model_id": "45ea66bbb7074bce88d85a28cdeecae0"
            }
          },
          "metadata": {}
        }
      ],
      "source": [
        "'''import torch\n",
        "from transformers import AutoModelForSeq2SeqLM\n",
        "\n",
        "device = torch.device(\"cuda\" if torch.cuda.is_available() else \"cpu\")\n",
        "\n",
        "# Modeli yükle (önceden tanımladığın tokenizer'ı kullan)\n",
        "model = AutoModelForSeq2SeqLM.from_pretrained(\"google/mt5-small\").to(device)\n",
        "'''"
      ]
    },
    {
      "cell_type": "code",
      "execution_count": 14,
      "metadata": {
        "id": "kL7j5kNqPV67"
      },
      "outputs": [],
      "source": [
        "data_collator = DataCollatorForSeq2Seq(\n",
        "    tokenizer,\n",
        "    model=model,\n",
        "    padding=\"longest\",  # \"max_length\" yerine \"longest\" kullanın\n",
        "    return_tensors=\"pt\",\n",
        ")"
      ]
    },
    {
      "cell_type": "code",
      "source": [
        "!pip install evaluate\n",
        "!pip install rouge_score"
      ],
      "metadata": {
        "colab": {
          "base_uri": "https://localhost:8080/",
          "height": 1000,
          "referenced_widgets": [
            "c541bac8d41a4db0986a4b10ee3897f8",
            "0fcb20dcf8b94513a213d1c9c9a6aeba",
            "adc79c4cd7214da79c2224652d5789ef",
            "d16e0c7fb2274abbb9b84136297ab060",
            "c402ca169724471f936b60bcd47839e6",
            "63dceb9082f647209667a24c6389f0f0",
            "a8eb9a8c45334e418dc3ad3156948c29",
            "486ca85bf7bf4beabc12a7c07bec7001",
            "f3990ca253ee4a44b0c8b8047a731554",
            "54250dda3cde462ea5807aaf0034611d",
            "bf2b529e50974718b670deffb03240c3"
          ]
        },
        "id": "NBl8tt2p59Vy",
        "outputId": "8d2cc3cc-4021-46e2-87d5-c31f8c65cef1"
      },
      "execution_count": 15,
      "outputs": [
        {
          "output_type": "display_data",
          "data": {
            "text/plain": [
              "model.safetensors:   0%|          | 0.00/1.20G [00:00<?, ?B/s]"
            ],
            "application/vnd.jupyter.widget-view+json": {
              "version_major": 2,
              "version_minor": 0,
              "model_id": "c541bac8d41a4db0986a4b10ee3897f8"
            }
          },
          "metadata": {}
        },
        {
          "output_type": "stream",
          "name": "stdout",
          "text": [
            "Collecting evaluate\n",
            "  Downloading evaluate-0.4.3-py3-none-any.whl.metadata (9.2 kB)\n",
            "Requirement already satisfied: datasets>=2.0.0 in /usr/local/lib/python3.11/dist-packages (from evaluate) (3.5.0)\n",
            "Requirement already satisfied: numpy>=1.17 in /usr/local/lib/python3.11/dist-packages (from evaluate) (2.0.2)\n",
            "Requirement already satisfied: dill in /usr/local/lib/python3.11/dist-packages (from evaluate) (0.3.8)\n",
            "Requirement already satisfied: pandas in /usr/local/lib/python3.11/dist-packages (from evaluate) (2.2.2)\n",
            "Requirement already satisfied: requests>=2.19.0 in /usr/local/lib/python3.11/dist-packages (from evaluate) (2.32.3)\n",
            "Requirement already satisfied: tqdm>=4.62.1 in /usr/local/lib/python3.11/dist-packages (from evaluate) (4.67.1)\n",
            "Requirement already satisfied: xxhash in /usr/local/lib/python3.11/dist-packages (from evaluate) (3.5.0)\n",
            "Requirement already satisfied: multiprocess in /usr/local/lib/python3.11/dist-packages (from evaluate) (0.70.16)\n",
            "Requirement already satisfied: fsspec>=2021.05.0 in /usr/local/lib/python3.11/dist-packages (from fsspec[http]>=2021.05.0->evaluate) (2024.12.0)\n",
            "Requirement already satisfied: huggingface-hub>=0.7.0 in /usr/local/lib/python3.11/dist-packages (from evaluate) (0.29.3)\n",
            "Requirement already satisfied: packaging in /usr/local/lib/python3.11/dist-packages (from evaluate) (24.2)\n",
            "Requirement already satisfied: filelock in /usr/local/lib/python3.11/dist-packages (from datasets>=2.0.0->evaluate) (3.18.0)\n",
            "Requirement already satisfied: pyarrow>=15.0.0 in /usr/local/lib/python3.11/dist-packages (from datasets>=2.0.0->evaluate) (18.1.0)\n",
            "Requirement already satisfied: aiohttp in /usr/local/lib/python3.11/dist-packages (from datasets>=2.0.0->evaluate) (3.11.14)\n",
            "Requirement already satisfied: pyyaml>=5.1 in /usr/local/lib/python3.11/dist-packages (from datasets>=2.0.0->evaluate) (6.0.2)\n",
            "Requirement already satisfied: typing-extensions>=3.7.4.3 in /usr/local/lib/python3.11/dist-packages (from huggingface-hub>=0.7.0->evaluate) (4.12.2)\n",
            "Requirement already satisfied: charset-normalizer<4,>=2 in /usr/local/lib/python3.11/dist-packages (from requests>=2.19.0->evaluate) (3.4.1)\n",
            "Requirement already satisfied: idna<4,>=2.5 in /usr/local/lib/python3.11/dist-packages (from requests>=2.19.0->evaluate) (3.10)\n",
            "Requirement already satisfied: urllib3<3,>=1.21.1 in /usr/local/lib/python3.11/dist-packages (from requests>=2.19.0->evaluate) (2.3.0)\n",
            "Requirement already satisfied: certifi>=2017.4.17 in /usr/local/lib/python3.11/dist-packages (from requests>=2.19.0->evaluate) (2025.1.31)\n",
            "Requirement already satisfied: python-dateutil>=2.8.2 in /usr/local/lib/python3.11/dist-packages (from pandas->evaluate) (2.8.2)\n",
            "Requirement already satisfied: pytz>=2020.1 in /usr/local/lib/python3.11/dist-packages (from pandas->evaluate) (2025.1)\n",
            "Requirement already satisfied: tzdata>=2022.7 in /usr/local/lib/python3.11/dist-packages (from pandas->evaluate) (2025.1)\n",
            "Requirement already satisfied: aiohappyeyeballs>=2.3.0 in /usr/local/lib/python3.11/dist-packages (from aiohttp->datasets>=2.0.0->evaluate) (2.6.1)\n",
            "Requirement already satisfied: aiosignal>=1.1.2 in /usr/local/lib/python3.11/dist-packages (from aiohttp->datasets>=2.0.0->evaluate) (1.3.2)\n",
            "Requirement already satisfied: attrs>=17.3.0 in /usr/local/lib/python3.11/dist-packages (from aiohttp->datasets>=2.0.0->evaluate) (25.3.0)\n",
            "Requirement already satisfied: frozenlist>=1.1.1 in /usr/local/lib/python3.11/dist-packages (from aiohttp->datasets>=2.0.0->evaluate) (1.5.0)\n",
            "Requirement already satisfied: multidict<7.0,>=4.5 in /usr/local/lib/python3.11/dist-packages (from aiohttp->datasets>=2.0.0->evaluate) (6.2.0)\n",
            "Requirement already satisfied: propcache>=0.2.0 in /usr/local/lib/python3.11/dist-packages (from aiohttp->datasets>=2.0.0->evaluate) (0.3.0)\n",
            "Requirement already satisfied: yarl<2.0,>=1.17.0 in /usr/local/lib/python3.11/dist-packages (from aiohttp->datasets>=2.0.0->evaluate) (1.18.3)\n",
            "Requirement already satisfied: six>=1.5 in /usr/local/lib/python3.11/dist-packages (from python-dateutil>=2.8.2->pandas->evaluate) (1.17.0)\n",
            "Downloading evaluate-0.4.3-py3-none-any.whl (84 kB)\n",
            "\u001b[?25l   \u001b[90m━━━━━━━━━━━━━━━━━━━━━━━━━━━━━━━━━━━━━━━━\u001b[0m \u001b[32m0.0/84.0 kB\u001b[0m \u001b[31m?\u001b[0m eta \u001b[36m-:--:--\u001b[0m\r\u001b[2K   \u001b[90m━━━━━━━━━━━━━━━━━━━━━━━━━━━━━━━━━━━━━━━━\u001b[0m \u001b[32m84.0/84.0 kB\u001b[0m \u001b[31m9.4 MB/s\u001b[0m eta \u001b[36m0:00:00\u001b[0m\n",
            "\u001b[?25hInstalling collected packages: evaluate\n",
            "Successfully installed evaluate-0.4.3\n",
            "Collecting rouge_score\n",
            "  Downloading rouge_score-0.1.2.tar.gz (17 kB)\n",
            "  Preparing metadata (setup.py) ... \u001b[?25l\u001b[?25hdone\n",
            "Requirement already satisfied: absl-py in /usr/local/lib/python3.11/dist-packages (from rouge_score) (1.4.0)\n",
            "Requirement already satisfied: nltk in /usr/local/lib/python3.11/dist-packages (from rouge_score) (3.9.1)\n",
            "Requirement already satisfied: numpy in /usr/local/lib/python3.11/dist-packages (from rouge_score) (2.0.2)\n",
            "Requirement already satisfied: six>=1.14.0 in /usr/local/lib/python3.11/dist-packages (from rouge_score) (1.17.0)\n",
            "Requirement already satisfied: click in /usr/local/lib/python3.11/dist-packages (from nltk->rouge_score) (8.1.8)\n",
            "Requirement already satisfied: joblib in /usr/local/lib/python3.11/dist-packages (from nltk->rouge_score) (1.4.2)\n",
            "Requirement already satisfied: regex>=2021.8.3 in /usr/local/lib/python3.11/dist-packages (from nltk->rouge_score) (2024.11.6)\n",
            "Requirement already satisfied: tqdm in /usr/local/lib/python3.11/dist-packages (from nltk->rouge_score) (4.67.1)\n",
            "Building wheels for collected packages: rouge_score\n",
            "  Building wheel for rouge_score (setup.py) ... \u001b[?25l\u001b[?25hdone\n",
            "  Created wheel for rouge_score: filename=rouge_score-0.1.2-py3-none-any.whl size=24935 sha256=fb7991385c694bc9572497993bc175939a5a9ce413e91ed8853adf6439b008ee\n",
            "  Stored in directory: /root/.cache/pip/wheels/1e/19/43/8a442dc83660ca25e163e1bd1f89919284ab0d0c1475475148\n",
            "Successfully built rouge_score\n",
            "Installing collected packages: rouge_score\n",
            "Successfully installed rouge_score-0.1.2\n"
          ]
        }
      ]
    },
    {
      "cell_type": "code",
      "execution_count": 16,
      "metadata": {
        "id": "o9p6BzTgPV67",
        "colab": {
          "base_uri": "https://localhost:8080/",
          "height": 49,
          "referenced_widgets": [
            "f319e428abed4744ba39d657ccaa5a70",
            "728d8469948e4eeeafb4b5119859122a",
            "10b6772fc47f4c9f9de58fd16ba0c377",
            "6973d99af5c14fc18a4951e39692085c",
            "48559ac572064c2bb31ecc9c1bc27829",
            "d3da16fa152d407993a8b05518a2a77e",
            "6652e7a153b24c068dc517dcb1c15727",
            "ad5bb656c508494ab5f528a8d7bca869",
            "3fa5e45154a144dc8e7ceca1e3b63ba9",
            "11d8336dd84d4d9f88eb6344029431d1",
            "6743eebf70c64a3dbf786408f04525ba"
          ]
        },
        "outputId": "37ef91ce-da4b-418f-d6af-706da7fcc5b7"
      },
      "outputs": [
        {
          "output_type": "display_data",
          "data": {
            "text/plain": [
              "Downloading builder script:   0%|          | 0.00/6.27k [00:00<?, ?B/s]"
            ],
            "application/vnd.jupyter.widget-view+json": {
              "version_major": 2,
              "version_minor": 0,
              "model_id": "f319e428abed4744ba39d657ccaa5a70"
            }
          },
          "metadata": {}
        }
      ],
      "source": [
        "import evaluate\n",
        "import numpy as np\n",
        "from nltk.tokenize import RegexpTokenizer\n",
        "\n",
        "rouge_metric = evaluate.load(\"rouge\")\n",
        "\n",
        "# define function for custom tokenization\n",
        "def tokenize_sentence(arg):\n",
        "    return arg  # Bu fonksiyon kaldırılabilir veya değiştirilmeden kullanılabilir\n",
        "\n",
        "# define function to get ROUGE scores with custom tokenization\n",
        "def metrics_func(eval_arg):\n",
        "  preds, labels = eval_arg\n",
        "  # Replace -100\n",
        "  labels = np.where(labels != -100, labels, tokenizer.pad_token_id)\n",
        "  # Convert id tokens to text\n",
        "  text_preds = tokenizer.batch_decode(preds, skip_special_tokens=True)\n",
        "  text_labels = tokenizer.batch_decode(labels, skip_special_tokens=True)\n",
        "  # Insert a line break (\\n) in each sentence for ROUGE scoring\n",
        "  # (Note : Please change this code, when you perform on other languages except for Japanese)\n",
        "  text_preds = [(p if p.endswith((\".\", \"!\", \"?\")) else p + \".\") for p in text_preds]\n",
        "  text_labels = [(l if l.endswith((\".\", \"!\", \"?\")) else l + \".\") for l in text_labels]\n",
        "\n",
        "  # Türkçe cümle tokenizasyonu\n",
        "  sent_tokenizer_tr = RegexpTokenizer(r'[^.!?]*[.!?]')\n",
        "  text_preds = [\"\\n\".join(np.char.strip(sent_tokenizer_tr.tokenize(p))) for p in text_preds]\n",
        "  text_labels = [\"\\n\".join(np.char.strip(sent_tokenizer_tr.tokenize(l))) for l in text_labels]\n",
        "\n",
        "  # compute ROUGE score with custom tokenization\n",
        "  return rouge_metric.compute(\n",
        "    predictions=text_preds,\n",
        "    references=text_labels,\n",
        "    tokenizer=tokenize_sentence\n",
        "  )"
      ]
    },
    {
      "cell_type": "code",
      "source": [],
      "metadata": {
        "id": "IW8mn3glhX0n",
        "outputId": "2f472be7-be71-4a90-e5a5-629eeb6d9d31",
        "colab": {
          "base_uri": "https://localhost:8080/"
        }
      },
      "execution_count": 18,
      "outputs": [
        {
          "output_type": "stream",
          "name": "stdout",
          "text": [
            "Text 0: Memphis, Cuma günü Oklahoma City karşısında aldığı...\n",
            "Tokens 0: [259, 127630, 261, 7373, 262, 259, 29889, 259, 48311, 2740, 11993, 18712, 440, 11693, 966, 89041, 277, 1185, 4822, 107739, 15913, 44016, 259, 103184, 276, 189744, 99520, 273, 277, 3841, 259, 266, 39846, 17010, 739, 96001, 720, 529, 489, 158281, 36400, 107859, 8121, 90861, 277, 2432, 259, 85945, 2186, 259, 63027, 4300, 60697, 277, 273, 172818, 1176, 260, 489, 158281, 36400, 261, 259, 103184, 276, 189744, 99520, 273, 277, 3841, 49330, 2222, 1099, 10946, 62435, 12018, 31079, 529, 1001, 259, 195164, 269, 156890, 259, 1907, 90056, 126584, 8534, 468, 11454, 3143, 18966, 6765, 277, 348, 18629, 14987, 108206, 260, 1716, 13883, 261, 259, 70444, 277, 2186, 36591, 11351, 259, 135005, 17010, 492, 75593, 356, 79878, 739, 4919, 259, 48431, 7757, 78159, 261, 259, 105339, 277, 407, 11110, 5422, 38892, 14514, 96362, 278, 13904, 494, 259, 48431, 5372, 81904, 261, 42601, 11993, 18712, 440, 11693, 742, 31001, 4822, 107739, 15913, 4822, 107739, 270, 919, 66134, 1678, 110092, 261, 22936, 261, 82099, 11993, 18712, 112681, 5852, 698, 3343, 50304, 276, 266, 193318, 529, 259, 133850, 261, 29692, 277, 273, 259, 266, 39846, 48703, 407, 269, 8337, 720, 260, 259, 127630, 7373, 262, 259, 29889, 440, 11693, 966, 89041, 277, 1185, 4822, 107739, 15913, 44016, 259, 103184, 276, 189744, 99520, 273, 277, 3841, 259, 266, 39846, 17010, 739, 119284, 524, 260, 489, 158281, 36400, 107859, 8121, 259, 48311, 2740, 90861, 277, 2432, 259, 85945, 2186, 259, 63027, 4300, 60697, 277, 273, 269, 47154, 750, 172818, 8543, 259, 223991, 9616, 43844, 8341, 260, 259, 127630, 277, 687, 50342, 5093, 1024, 26507, 259, 110092, 529, 18682, 13651, 2165, 963, 26507, 55617, 47795, 259, 52190, 489, 158281, 36400, 198633, 176379, 20666, 2508, 1444, 178980, 32036, 8341, 260, 642, 299, 4227, 1115, 840, 26507, 529, 911, 114070, 9260, 2222, 90861, 277, 262, 15729, 1185, 45380, 260, 4300, 60697, 812, 26507, 259, 110092, 4467, 10629, 259, 78391, 106747, 278, 5422, 259, 263, 22784, 259, 52190, 26507, 344, 16007, 720, 529, 628, 30168, 270, 9165, 259, 263, 22784, 259, 51641, 8238, 339, 262, 1521, 45664, 21814, 266, 260, 1716, 13883, 277, 1076, 259, 85261, 5093, 570, 277, 407, 570, 259, 30811, 13451, 339, 262, 1521, 19460, 987, 26507, 259, 110092, 529, 63247, 263, 102480, 2667, 698, 46558, 370, 85671, 5522, 26618, 259, 48431, 422, 366, 129487, 320, 197124, 277, 2432, 330, 171516, 5225, 12229, 54755, 78807, 259, 3588, 5225, 259, 70444, 277, 2186, 19176, 107665, 277, 13451, 21916, 492, 8968, 524, 260, 412, 223785, 83919, 261, 35848, 259, 99706, 259, 52190, 4822, 107739, 270, 18463, 529, 259, 1717, 368, 35848, 259, 99706, 1013, 4822, 107739, 58371, 11110, 177181, 14031, 799, 277, 739, 40088, 321, 1716, 13883, 259, 42507, 262, 628, 26507, 108339, 11491, 260, 2856, 5877, 72372, 28944, 628, 26507, 344, 8543, 79108, 1714, 880, 12448, 368, 5726, 2222, 30168, 270, 344, 39801, 259, 65138, 1647, 4184, 26507, 739, 6935, 18629, 103199, 259, 70444, 277, 262, 15729, 1185, 45380, 260, 259, 127630, 489, 158281, 36400, 259, 149855, 273, 18682, 13651, 2165, 46980, 259, 48311, 2740, 90861, 259, 149855, 273, 642, 299, 4227, 1115, 277, 348, 30168, 270, 14031, 23806, 280, 59867, 260, 489, 158281, 36400, 332, 95109, 50342, 5093, 42736, 7373, 262, 259, 29889, 90861, 46626, 2186, 49270, 352, 124669, 277, 262, 11993, 2672, 273, 9361, 42929, 260, 81904, 277, 880, 1683, 444, 23694, 11110, 604, 289, 32902, 314, 1606, 26507, 23753, 45472, 8543, 6140, 263, 277, 266, 42601, 11993, 18712, 259, 171569, 21224, 277, 10448, 4822, 107739, 346, 32036, 8341, 296, 35848, 259, 99706, 2304, 189357, 4822, 316, 197494, 266, 440, 91412, 260, 1516, 115753, 438, 19267, 1024, 259, 263, 114725, 11814, 259, 70830, 14753, 759, 8310, 65535, 266, 344, 8543, 1364, 3385, 23107, 11110, 9165, 289, 32902, 314, 26507, 23753, 45472, 78159, 261, 61815, 83974, 269, 733, 26507, 529, 911, 114070, 273, 148558, 259, 105339, 277, 407, 165018, 29653, 17010, 739, 96001, 278, 6140, 263, 277, 265, 113127, 61318, 56609, 260, 459, 7456, 459, 86810, 321, 1213, 26507, 261, 303, 107906, 114070, 23275, 529, 303, 107906, 84687, 468, 43844, 50341, 261, 28078, 19002, 259, 105339, 277, 407, 259, 6737, 50383, 13451, 3343, 50304, 14987, 22936, 277, 8961, 18629, 14987, 108206, 260, 412, 223785, 83919, 1571, 1716, 13883, 259, 42507, 262, 628, 26507, 39668, 50341, 63247, 263, 259, 70444, 277, 2186, 19176, 107665, 2222, 8968, 524, 260, 81904, 6140, 263, 277, 346, 1683, 444, 23694, 2885, 9165, 10932, 379, 14215, 31877, 529, 4822, 23077, 5765, 1606, 3385, 23107, 11110, 604, 289, 32902, 314, 21916, 14031, 259, 38627, 45380, 260, 22936, 277, 407, 57673, 13651, 2165, 1183, 26507, 529, 475, 114070, 9260, 2222, 11110, 604, 1013, 260, 14626, 264, 85705, 277, 10863, 5522, 8543, 25395, 263, 277, 604, 82099, 277, 266, 259, 1130, 112251, 36591, 83075, 259, 276, 37700, 9203, 260, 259, 57653, 259, 104955, 22936, 259, 42507, 262, 812, 26507, 259, 262, 199425, 261, 82099, 277, 346, 531, 186478, 32614, 1024, 26507, 529, 331, 181232, 84687, 468, 43844, 8341, 260, 259, 133850, 277, 368, 1595, 2173, 11112, 739, 100512, 259, 6737, 50383, 259, 78391, 168502, 259, 205679, 730, 3385, 23107, 10629, 48703, 14094, 2736, 16779, 6882, 110092, 529, 41118, 263, 29692, 277, 273, 7021, 113154, 36591, 11351, 259, 110578, 263, 277, 348, 259, 135005, 259, 103215, 13346, 259, 164795, 300, 44177, 260, 22936, 25395, 263, 261, 82099, 363, 33690, 263, 277, 2186, 259, 1130, 112251, 36591, 11351, 42601, 28078, 19002, 277, 2432, 259, 82379, 405, 8968, 524, 260, 29692, 261, 259, 52190, 259, 48431, 11814, 259, 105339, 277, 14094, 1065, 259, 135005, 17010, 5539, 3343, 50304, 14987, 65370, 23378, 29804, 277, 1785, 48703, 282, 259, 48431, 18629, 16941, 331, 146241, 260, 443, 260, 866, 260, 42177, 840, 3385, 23107, 259, 133850, 277, 1347, 15729, 1185, 45380, 260, 29692, 277, 262, 1073, 3385, 23107, 24768, 22436, 9745, 15729, 1185, 45380, 260, 66371, 412, 92227, 189744, 99520, 273, 259, 1907, 90056, 126584, 2713, 21586, 501, 30279, 11993, 18712, 440, 11693, 475, 203885, 277, 1185, 4822, 107739, 15913, 193048, 171958, 261, 371, 260, 866, 260, 148233, 37178, 31833, 143128, 348, 289, 32902, 314, 1213, 26507, 23753, 45472, 8543, 501, 30279, 277, 262, 259, 15859, 259, 145249, 29458, 172155, 44537, 69953, 260, 1361, 91828, 261, 24356, 69639, 277, 604, 987, 3385, 117064, 259, 101602, 84386, 12833, 72506, 277, 1185, 21916, 492, 397, 25808, 367, 259, 126490, 277, 7036, 36591, 11351, 259, 135005, 66087, 3436, 259, 58346, 259, 38627, 45380, 260, 1361, 91828, 261, 259, 102592, 259, 126490, 277, 7036, 12833, 72506, 36591, 11351, 259, 135005, 66087, 3436, 259, 58346, 259, 38627, 45380, 260, 60438, 277, 407, 18693, 9795, 62904, 297, 2932, 102002, 687, 4501, 11351, 259, 205679, 670, 3385, 23107, 35267, 1207, 277, 2186, 41794, 11993, 18712, 11276, 68670, 277, 13451, 4822, 107739, 346, 32036, 8341, 260, 11419, 261, 102023, 14177, 7924, 277, 2432, 963, 529, 259, 120967, 1071, 473, 277, 2432, 812, 26507, 259, 205679, 259, 48431, 422, 397, 25808, 367, 1361, 4011, 277, 273, 12833, 105344, 259, 276, 49732, 260, 52199, 277, 407, 39435, 24557, 541, 25492, 31833, 16807, 177181, 273, 3143, 4184, 26507, 259, 110092, 529, 911, 114070, 23275, 259, 262, 3723, 22328, 277, 348, 65508, 277, 23177, 9320, 93564, 36591, 74022, 55306, 8341, 260, 1]\n",
            "\n",
            "Text 1: Genellikle evde filtre kahve demlerken kahve telve...\n",
            "Tokens 1: [6242, 122321, 259, 116437, 74052, 259, 166621, 710, 226959, 259, 166621, 400, 54669, 1507, 259, 34606, 37373, 1714, 51627, 69977, 529, 28816, 3396, 297, 216437, 14094, 259, 276, 14573, 19749, 53087, 173986, 3724, 1714, 326, 142832, 2167, 1137, 260, 298, 49210, 758, 259, 19988, 2846, 7072, 261, 259, 99657, 270, 235877, 96500, 54645, 408, 135487, 129570, 334, 845, 34159, 698, 3803, 11441, 407, 350, 22973, 119605, 25885, 45605, 260, 259, 84301, 3498, 45664, 54036, 156522, 2667, 14564, 529, 344, 234248, 6599, 2107, 265, 14564, 178719, 4688, 159354, 261, 16362, 191484, 5485, 524, 122230, 259, 41323, 2033, 221728, 650, 174383, 81420, 152716, 24618, 6935, 698, 87202, 6298, 259, 126156, 122297, 3724, 1714, 123029, 360, 698, 14178, 88603, 185391, 260, 2147, 1714, 259, 262, 26654, 108339, 201700, 259, 260, 6242, 122321, 259, 116437, 74052, 259, 166621, 710, 226959, 259, 166621, 400, 54669, 1507, 259, 34606, 37373, 1714, 51627, 69977, 261, 259, 39051, 408, 135487, 74052, 7193, 26507, 16110, 34159, 6298, 13508, 19296, 350, 43083, 260, 15599, 346, 515, 42390, 261, 259, 166621, 74052, 408, 135487, 58474, 5522, 153820, 628, 17010, 331, 18831, 11915, 266, 698, 259, 66000, 144231, 260, 1025, 259, 84301, 3498, 698, 259, 230063, 259, 268, 3723, 260, 46116, 4727, 109302, 25584, 272, 8673, 36761, 178234, 6882, 34555, 7904, 34643, 273, 37681, 289, 117491, 20958, 155164, 260, 2674, 74052, 427, 199513, 10946, 767, 263, 61463, 348, 529, 14247, 4727, 109302, 259, 110092, 233709, 36761, 2432, 5061, 10944, 157305, 348, 260, 1219, 87589, 857, 517, 8669, 259, 99726, 5482, 1714, 259, 260, 156957, 259, 10756, 1834, 3626, 84878, 273, 259, 121510, 6290, 576, 1043, 43780, 47484, 294, 192017, 1347, 517, 8669, 259, 99726, 46517, 330, 89892, 74052, 259, 268, 3723, 36303, 272, 260, 3219, 350, 1714, 368, 674, 1868, 46610, 1954, 3143, 698, 259, 149693, 265, 28147, 92779, 260, 1501, 259, 170365, 53487, 2346, 259, 268, 3723, 259, 260, 75228, 528, 49953, 92959, 314, 1714, 54666, 2432, 427, 68699, 440, 25179, 46882, 120503, 270, 66046, 291, 75228, 154439, 316, 106942, 74052, 427, 199513, 2222, 6882, 109060, 529, 22572, 3463, 715, 163995, 1714, 265, 108834, 24618, 55478, 2432, 260, 70711, 276, 177530, 2482, 529, 259, 99657, 270, 235877, 11993, 96500, 54645, 74052, 427, 199513, 129570, 334, 1954, 301, 17173, 698, 3803, 11441, 407, 350, 22973, 119605, 25885, 45605, 260, 1872, 8752, 1137, 1714, 8673, 36303, 282, 6599, 427, 175231, 259, 260, 205020, 59063, 3724, 143442, 93825, 698, 3990, 61793, 93825, 368, 330, 89892, 24679, 1347, 11454, 261, 3777, 198204, 326, 132127, 529, 6265, 147166, 102852, 1714, 8673, 36303, 282, 6599, 344, 234248, 6599, 2107, 48650, 259, 268, 3723, 36303, 272, 260, 2303, 4760, 2202, 25179, 7261, 108774, 1714, 259, 260, 431, 229486, 265, 259, 84171, 576, 127778, 5061, 10944, 698, 74052, 157305, 348, 261, 29972, 173160, 259, 13641, 7757, 69980, 1168, 266, 724, 11351, 886, 41366, 44136, 7261, 1137, 260, 2840, 320, 167701, 259, 263, 167701, 14753, 259, 260, 139602, 24067, 2128, 261, 890, 140652, 6079, 2982, 29328, 259, 3803, 4106, 724, 3498, 3143, 529, 259, 263, 167701, 168288, 1168, 266, 724, 16616, 698, 259, 166621, 74052, 522, 2222, 12229, 130193, 121291, 12319, 94673, 8669, 88603, 2432, 260, 3278, 82071, 276, 14573, 22572, 154439, 325, 1954, 259, 260, 2674, 4106, 650, 259, 263, 152549, 698, 54666, 2432, 36607, 263, 66134, 528, 350, 22572, 154439, 316, 10863, 48558, 9205, 126624, 4808, 261, 54666, 2989, 528, 350, 408, 135487, 8780, 1696, 92959, 314, 259, 276, 10944, 767, 36248, 231888, 528, 350, 528, 231888, 259, 166621, 24178, 157176, 64736, 272, 260, 4050, 431, 167360, 314, 2477, 174858, 108834, 162963, 516, 172818, 604, 259, 260, 259, 90008, 1287, 266, 2477, 174858, 15783, 84386, 272, 75322, 169847, 314, 1714, 2477, 174858, 129570, 334, 7967, 16065, 23753, 698, 74052, 147432, 272, 260, 4178, 1153, 3626, 106682, 38688, 169847, 314, 1714, 259, 260, 2674, 4106, 650, 259, 263, 152549, 259, 993, 89493, 259, 10756, 101914, 56766, 528, 49953, 259, 181901, 259, 158607, 53487, 2346, 259, 268, 3723, 36303, 272, 260, 114977, 98841, 259, 268, 91916, 74052, 1785, 259, 43064, 262, 157305, 348, 529, 3034, 64938, 102575, 59063, 30729, 9437, 395, 57531, 259, 10756, 259, 5282, 2222, 67946, 109060, 260, 139602, 24067, 259, 993, 125898, 199001, 122549, 7254, 529, 121291, 95281, 427, 124653, 7261, 108774, 1714, 259, 183685, 10026, 698, 46610, 259, 166621, 74052, 522, 427, 199513, 147432, 272, 260, 7899, 155276, 17010, 18712, 698, 85078, 74052, 427, 199513, 377, 698, 85078, 259, 220973, 48156, 28607, 48558, 350, 3616, 185286, 576, 1043, 13821, 175624, 88603, 67753, 260, 3992, 447, 46315, 529, 35552, 259, 96411, 259, 99726, 1017, 769, 259, 260, 1739, 1043, 528, 48225, 18122, 698, 3396, 6080, 259, 96411, 710, 108774, 856, 158061, 4467, 259, 99726, 1017, 297, 38688, 658, 153062, 43313, 291, 2674, 259, 96411, 427, 1907, 119519, 528, 48225, 79692, 272, 529, 259, 181901, 259, 158607, 368, 4913, 6290, 261, 35848, 48156, 8669, 259, 266, 25536, 92653, 30729, 9437, 5522, 286, 71456, 9010, 157305, 348, 260, 39339, 5225, 8954, 272, 5522, 259, 96411, 485, 143752, 38688, 259, 78957, 140284, 301, 55880, 180553, 272, 529, 5061, 10944, 259, 263, 57484, 517, 55617, 7942, 260, 4668, 55774, 314, 259, 132472, 86133, 4500, 199425, 259, 260, 41932, 1772, 10403, 122549, 7254, 259, 132472, 86133, 890, 140652, 259, 16922, 135915, 151114, 54645, 314, 184041, 1076, 16663, 2432, 260, 352, 114408, 266, 698, 74052, 1714, 368, 16663, 7967, 5061, 10944, 157305, 348, 260, 5016, 363, 144072, 259, 276, 17963, 259, 276, 10944, 259, 260, 91724, 31506, 40088, 53077, 7409, 15575, 4467, 16362, 191484, 890, 5485, 524, 291, 320, 22784, 259, 4192, 218922, 297, 135049, 3569, 201700, 529, 80569, 145067, 259, 13373, 11557, 55478, 2432, 260, 5029, 412, 60866, 71524, 1954, 724, 295, 259, 260, 2610, 74052, 1785, 259, 43064, 262, 698, 259, 59872, 19087, 259, 96411, 427, 1907, 119519, 92511, 56346, 288, 1962, 675, 124886, 261, 259, 3588, 5225, 35848, 48156, 8669, 698, 259, 66000, 48148, 127881, 259, 266, 25536, 67946, 130193, 8954, 71524, 724, 3498, 90834, 26101, 272, 260, 412, 99014, 259, 262, 74621, 4632, 1714, 265, 157305, 348, 260, 5006, 852, 125398, 55835, 48558, 16110, 259, 169157, 259, 260, 581, 84418, 529, 724, 3498, 12448, 2407, 155276, 408, 135487, 1954, 86557, 845, 260, 259, 196183, 2861, 165993, 16065, 23753, 259, 96411, 5522, 286, 71456, 529, 259, 89637, 157305, 348, 529, 710, 19087, 880, 9437, 259, 266, 25536, 67946, 109060, 260, 412, 135487, 74052, 1347, 698, 326, 118541, 259, 262, 74621, 13425, 9188, 55617, 7942, 529, 259, 262, 74621, 94029, 22140, 270, 3724, 1714, 36303, 272, 260, 5383, 157196, 358, 7211, 2033, 95348, 156178, 2128, 22489, 368, 259, 169157, 259, 260, 11596, 38688, 32036, 176663, 529, 4918, 119514, 259, 92210, 280, 114125, 259, 82062, 263, 158578, 7211, 377, 186793, 46882, 567, 291, 1641, 1954, 128114, 932, 1714, 9633, 19087, 17010, 18712, 259, 166621, 74052, 11645, 519, 109432, 228685, 798, 58048, 157305, 348, 260, 5712, 2827, 276, 522, 7193, 576, 1043, 13821, 44136, 88603, 2432, 259, 260, 66680, 276, 131635, 90834, 24679, 270, 87748, 259, 87201, 71524, 120222, 5642, 123029, 360, 698, 33758, 1714, 259, 81855, 162907, 2407, 155276, 44046, 51889, 344, 30729, 9437, 698, 85078, 74052, 427, 199513, 377, 289, 18705, 93825, 57115, 49336, 280, 48558, 1076, 698, 85078, 259, 220973, 350, 3616, 63569, 260, 5654, 2694, 6791, 108834, 4688, 64083, 12229, 5539, 5485, 198044, 259, 260, 515, 13308, 210117, 440, 84347, 698, 5485, 314, 39165, 259, 42259, 102452, 157305, 83355, 261, 2672, 286, 140284, 4344, 265, 259, 16110, 164266, 1714, 5978, 12229, 39659, 301, 55880, 698, 259, 166621, 74052, 522, 157305, 348, 260, 1153, 259, 68193, 6298, 5485, 198044, 1714, 36303, 1907, 58132, 260, 5527, 229587, 270, 6089, 259, 260, 320, 26721, 69980, 259, 10756, 108834, 4688, 645, 259, 268, 176464, 1714, 890, 140652, 160076, 36761, 178234, 301, 55880, 698, 74052, 157305, 348, 260, 2674, 4106, 650, 259, 263, 152549, 160076, 259, 276, 116637, 135049, 259, 199457, 5522, 126624, 4808, 32569, 9076, 198500, 270, 53077, 259, 133902, 44014, 260, 5785, 298, 74621, 94029, 22140, 270, 2432, 259, 260, 121908, 265, 74052, 2128, 31726, 276, 177530, 79644, 1714, 442, 266, 259, 262, 74621, 94029, 22140, 270, 3724, 1714, 326, 142832, 2167, 529, 29972, 173160, 259, 262, 74621, 221728, 20666, 158915, 259, 161348, 177530, 75202, 260, 56247, 88512, 5061, 10944, 289, 18705, 93825, 259, 262, 74621, 14478, 109880, 698, 326, 118541, 64736, 272, 529, 24045, 262, 39593, 259, 268, 3723, 36303, 272, 260, 3140, 8166, 377, 1954, 529, 5916, 1954, 152716, 7942, 260, 366, 1398, 2846, 7072, 1786, 118222, 1714, 259, 166621, 74052, 2128, 5916, 1954, 22140, 270, 3724, 529, 259, 96199, 1954, 152716, 5482, 1714, 51627, 37579, 260, 1]\n",
            "\n",
            "Text 2: Ronald Reagan'ı vuran adamı tedavi eden bir psikiy...\n",
            "Tokens 2: [73418, 788, 24123, 277, 2186, 300, 15007, 259, 262, 187581, 400, 48727, 21268, 698, 121385, 208612, 1905, 261, 4955, 5642, 698, 3343, 10970, 61050, 273, 2407, 3724, 259, 4427, 57090, 529, 103341, 85215, 516, 62954, 259, 268, 3723, 184913, 39801, 28994, 672, 57352, 7409, 62056, 50525, 260, 2051, 260, 259, 208670, 264, 25721, 262, 21226, 266, 261, 4040, 23360, 238328, 25604, 277, 2432, 259, 165427, 4955, 30892, 331, 49673, 2335, 4808, 2555, 40373, 39801, 28994, 125690, 325, 189133, 276, 103561, 529, 259, 27568, 77623, 164800, 2304, 3436, 28884, 103561, 165003, 194996, 3143, 11419, 277, 14094, 7567, 63261, 331, 160597, 63338, 17010, 18712, 7373, 262, 259, 29889, 955, 2663, 20297, 260, 259, 208670, 264, 25721, 262, 21226, 266, 261, 23360, 238328, 277, 1785, 3343, 10970, 10937, 33287, 2407, 39801, 28994, 672, 57352, 259, 39051, 259, 93028, 35419, 130916, 672, 175724, 7409, 62056, 50525, 260, 23360, 238328, 277, 348, 44521, 18463, 23003, 16426, 269, 103341, 170963, 529, 28147, 16779, 158703, 5282, 81336, 7211, 150207, 260, 259, 51558, 750, 3343, 10970, 43982, 16941, 269, 5749, 116252, 260, 42552, 73418, 788, 24123, 277, 262, 19317, 20941, 129202, 194996, 3143, 4040, 23360, 238328, 25604, 261, 809, 6157, 3436, 261, 698, 7567, 753, 58105, 1065, 54482, 360, 6157, 11211, 7757, 11693, 259, 165427, 4955, 272, 140823, 75322, 422, 261, 7498, 78814, 36056, 277, 14094, 259, 265, 117225, 259, 98243, 911, 4418, 37277, 191999, 405, 26992, 672, 196784, 758, 14335, 10629, 28279, 102934, 6036, 260, 71113, 494, 54362, 1479, 43728, 529, 3750, 51865, 92769, 314, 1954, 733, 12676, 27189, 277, 368, 4040, 23360, 238328, 25604, 8026, 5225, 73418, 788, 24123, 277, 262, 55761, 278, 19317, 20941, 34947, 194078, 139316, 321, 18122, 196114, 15575, 260, 23360, 238328, 277, 1785, 526, 38898, 1954, 261, 259, 165427, 4955, 112869, 259, 268, 17010, 407, 877, 259, 276, 77526, 3143, 23360, 238328, 277, 276, 266, 259, 262, 237319, 2851, 2824, 515, 85740, 277, 2186, 96192, 5482, 80658, 23107, 42552, 277, 2186, 58841, 11557, 609, 62056, 50525, 260, 23360, 238328, 277, 1785, 114028, 163604, 529, 400, 48727, 259, 265, 95029, 261, 90532, 266, 77623, 164800, 2304, 3436, 11579, 22796, 34059, 7498, 78814, 36056, 277, 14094, 259, 265, 117225, 2335, 4808, 2555, 259, 268, 3723, 104426, 739, 29446, 4913, 1246, 79982, 60414, 260, 23360, 238328, 277, 1785, 11496, 72071, 126538, 265, 46723, 48678, 259, 268, 3723, 28994, 672, 17445, 260, 8166, 407, 911, 4418, 17963, 7498, 78814, 23694, 9847, 277, 14094, 259, 265, 117225, 37277, 15575, 260, 447, 45062, 429, 526, 38898, 1954, 1118, 62300, 811, 259, 29889, 5522, 115493, 41678, 407, 261, 42552, 788, 24123, 277, 2186, 300, 15007, 31464, 2432, 259, 165427, 4955, 272, 140823, 2834, 13139, 16841, 39801, 28994, 28884, 40454, 261, 99599, 77623, 164800, 2304, 3436, 40373, 8121, 261, 112470, 3871, 214646, 259, 149657, 2708, 232655, 756, 8121, 529, 16550, 259, 41795, 2708, 232655, 3143, 698, 91867, 13508, 8121, 7409, 62056, 50525, 260, 23360, 238328, 277, 1785, 114028, 163604, 259, 92919, 40064, 405, 80118, 1907, 12072, 259, 29889, 331, 160597, 178982, 10629, 4418, 21321, 5522, 26618, 41678, 407, 23360, 238328, 277, 1785, 259, 277, 120333, 259, 268, 3723, 4955, 405, 331, 49673, 7757, 25885, 259, 268, 3723, 104426, 739, 29446, 277, 4913, 1246, 529, 758, 11441, 604, 400, 48727, 259, 265, 95029, 8026, 5225, 350, 122696, 272, 57090, 50525, 260, 40064, 405, 261, 259, 268, 4808, 845, 877, 259, 276, 77526, 3143, 23360, 238328, 277, 266, 27189, 6157, 3436, 259, 262, 237319, 2851, 2824, 515, 85740, 277, 2186, 96192, 5482, 1714, 259, 143402, 58841, 11557, 609, 278, 259, 165427, 4955, 112869, 259, 276, 151712, 259, 41342, 259, 66534, 2432, 698, 10034, 2167, 259, 277, 4171, 529, 259, 38649, 286, 105425, 698, 222476, 645, 277, 1714, 368, 4913, 1246, 50525, 260, 298, 49210, 40064, 405, 529, 382, 45062, 429, 526, 38898, 1954, 261, 23360, 238328, 277, 1785, 11419, 277, 14094, 1819, 260, 38718, 259, 165427, 4955, 30892, 331, 49673, 2335, 4808, 2555, 259, 268, 3723, 40373, 39801, 28994, 672, 57352, 560, 33423, 8599, 8121, 7409, 278, 77623, 164800, 2861, 32706, 134049, 12510, 76225, 331, 146241, 1137, 260, 30228, 62929, 261, 23360, 238328, 277, 1785, 10034, 14800, 259, 268, 3723, 7498, 78814, 23694, 9847, 277, 14094, 259, 265, 117225, 40373, 8121, 560, 33423, 46386, 23468, 259, 30811, 65964, 1307, 77623, 454, 167540, 214891, 260, 23360, 238328, 261, 27189, 6157, 3436, 42552, 788, 24123, 277, 2186, 58841, 218999, 5422, 24632, 8026, 5225, 125981, 278, 9968, 23468, 262, 62739, 3436, 260, 96729, 20941, 34947, 142546, 259, 3588, 5225, 46723, 48678, 259, 268, 3723, 11496, 72071, 126538, 265, 163300, 876, 259, 260, 42552, 788, 24123, 261, 138405, 259, 67064, 2222, 20965, 346, 27189, 6157, 3436, 8954, 16941, 55192, 985, 19317, 20941, 34947, 266, 152217, 95560, 270, 4418, 5422, 10934, 11419, 51429, 36690, 30892, 277, 2870, 260, 1153, 143143, 270, 175595, 259, 262, 10699, 259, 105281, 93273, 34059, 259, 149657, 100153, 19296, 529, 8954, 522, 261, 788, 24123, 261, 515, 85740, 529, 517, 38832, 4521, 139316, 321, 788, 24123, 259, 90890, 259, 213978, 266, 8635, 35967, 276, 14848, 3436, 16586, 79045, 528, 263, 34555, 350, 4344, 259, 113422, 260, 30228, 62929, 26073, 750, 23360, 238328, 277, 1785, 2563, 529, 66908, 6290, 1803, 15976, 259, 46425, 259, 63141, 29209, 2186, 25637, 78807, 350, 182359, 234855, 134383, 845, 261, 259, 61619, 19162, 23360, 238328, 277, 1347, 259, 4480, 263, 38649, 9822, 1185, 135905, 314, 60551, 124547, 102826, 2861, 197838, 261, 259, 39051, 21498, 1954, 330, 9165, 55444, 13012, 45110, 42278, 79982, 60414, 260, 23360, 238328, 277, 1785, 526, 38898, 1954, 529, 4955, 405, 143143, 270, 211922, 272, 11901, 37214, 262, 11993, 16841, 23832, 260, 23360, 238328, 277, 1785, 1819, 260, 38718, 263, 277, 58533, 86748, 40689, 196114, 278, 9822, 22173, 16426, 3143, 259, 79980, 259, 174509, 261, 1118, 62300, 811, 259, 29889, 672, 17548, 259, 54927, 4859, 23360, 238328, 277, 1785, 8954, 522, 14848, 3436, 261, 45134, 2555, 259, 263, 115312, 529, 40924, 138584, 9822, 26784, 15846, 266, 12027, 529, 74258, 286, 269, 259, 15082, 259, 25142, 5061, 967, 261, 16586, 31781, 126644, 133214, 2555, 1786, 190592, 50525, 260, 259, 174509, 26073, 750, 4955, 405, 1785, 23360, 238328, 277, 1785, 112470, 3871, 24644, 21113, 114626, 756, 39801, 259, 277, 11881, 68542, 468, 11993, 16841, 87181, 277, 50525, 260, 259, 174509, 261, 23360, 238328, 277, 266, 259, 277, 7377, 3803, 12227, 2432, 26691, 314, 92769, 80675, 277, 529, 21113, 114626, 272, 61527, 4106, 350, 26865, 116709, 95838, 50525, 260, 23360, 238328, 277, 1785, 20901, 58048, 167390, 166638, 993, 261, 37394, 364, 135010, 39532, 318, 25885, 5838, 458, 260, 75115, 823, 261, 4106, 9437, 13653, 127696, 23360, 238328, 277, 1785, 7498, 78814, 259, 118666, 5522, 26618, 911, 4418, 13451, 42404, 1137, 17010, 18712, 112470, 3871, 24644, 21113, 114626, 756, 8121, 6142, 59141, 126923, 237924, 260, 7975, 16616, 1099, 1617, 98759, 377, 6811, 16616, 3143, 23360, 238328, 1714, 137934, 50650, 314, 259, 276, 79494, 259, 276, 79494, 31079, 260, 75115, 823, 261, 61527, 44278, 648, 5978, 880, 154035, 3724, 80658, 23107, 698, 65964, 1307, 6157, 14478, 23716, 137934, 50650, 178677, 272, 3684, 39801, 28994, 20297, 260, 75115, 823, 10629, 259, 268, 3723, 4323, 6157, 3436, 23360, 238328, 277, 348, 11419, 277, 14094, 36372, 9076, 259, 29889, 7377, 1185, 42404, 383, 83075, 261, 259, 3588, 5225, 350, 259, 64118, 42404, 14564, 28994, 20297, 260, 10195, 273, 23694, 9847, 277, 14094, 36372, 116163, 42404, 1137, 22313, 720, 260, 1153, 10034, 815, 1065, 14900, 166638, 993, 8026, 5225, 911, 4418, 265, 40088, 34629, 260, 23360, 238328, 277, 1785, 23694, 9847, 277, 407, 2335, 4808, 2555, 259, 268, 3723, 40373, 39801, 28994, 125690, 325, 28884, 148534, 529, 672, 74199, 569, 259, 27568, 77623, 164800, 2304, 3436, 28884, 88684, 77471, 276, 205657, 75115, 823, 277, 262, 330, 14573, 39034, 260, 4298, 38898, 4632, 100894, 26618, 77623, 454, 9525, 330, 164993, 23360, 238328, 277, 1785, 23694, 9847, 277, 4407, 2059, 466, 687, 8599, 43324, 529, 1001, 4919, 8026, 2432, 350, 259, 37887, 259, 53801, 77623, 164800, 267, 16550, 259, 216203, 494, 698, 70566, 40471, 32036, 3724, 261, 259, 63141, 14844, 79518, 3724, 529, 698, 265, 158263, 529, 4958, 43982, 14564, 47338, 3724, 260, 37394, 71113, 494, 54362, 266, 269, 4808, 4808, 23360, 238328, 277, 266, 1184, 145706, 261, 259, 39051, 758, 259, 8872, 919, 12769, 137267, 182636, 698, 77623, 11247, 16353, 260, 4040, 23360, 238328, 277, 348, 79027, 266, 22018, 23360, 238328, 261, 79027, 8518, 42552, 788, 24123, 277, 2186, 58841, 218999, 5422, 7567, 12436, 13010, 17548, 259, 165427, 4955, 272, 78814, 331, 49673, 4106, 3561, 492, 4808, 37277, 5282, 37277, 175724, 130241, 170610, 26564, 272, 4331, 179186, 1714, 80118, 1907, 12072, 259, 29889, 12782, 277, 20343, 24275, 7567, 753, 24618, 31079, 260, 1]\n",
            "\n",
            "Text 3: Durham'dan 23 yaşındaki Lix Bussey, erkek arkadaşı...\n",
            "Tokens 3: [9155, 3372, 277, 1076, 1073, 22796, 34059, 1519, 329, 1153, 191787, 261, 259, 39161, 21781, 23107, 20965, 346, 259, 87904, 262, 277, 407, 259, 108769, 528, 49953, 698, 21674, 26490, 100774, 8121, 1065, 28607, 22973, 10863, 153062, 260, 6242, 993, 698, 386, 208746, 259, 81998, 266, 261, 698, 85078, 2941, 9437, 259, 277, 52679, 93394, 6935, 650, 289, 9052, 4808, 19296, 37277, 104577, 277, 17001, 34601, 259, 205679, 259, 87904, 262, 28350, 222201, 1065, 7824, 698, 21674, 26490, 100774, 8121, 1065, 28607, 22973, 10863, 153062, 260, 1073, 22796, 34059, 3690, 329, 1153, 191787, 277, 348, 36372, 522, 261, 259, 81998, 348, 8954, 516, 28851, 672, 17548, 259, 105924, 262, 2158, 42278, 529, 259, 72359, 2667, 11811, 82167, 169468, 126912, 143745, 50525, 260, 62861, 3246, 6290, 1073, 259, 276, 77526, 3143, 259, 39161, 21781, 2186, 259, 41553, 13863, 468, 2222, 259, 103801, 59610, 259, 108769, 12880, 285, 14215, 37277, 81867, 259, 108769, 348, 1065, 2362, 46386, 10403, 155143, 260, 2674, 79651, 10629, 259, 47305, 285, 18831, 303, 55493, 64424, 172306, 260, 7414, 181009, 261, 20666, 2508, 348, 259, 64118, 53479, 196784, 5422, 39244, 14564, 29242, 50341, 50280, 1153, 191787, 277, 265, 698, 21674, 26490, 100774, 144438, 16065, 739, 60753, 260, 49186, 26212, 261, 7953, 9155, 3372, 277, 14094, 49186, 26212, 99708, 263, 5736, 277, 407, 259, 81998, 1185, 259, 47862, 1153, 191787, 261, 6424, 273, 147870, 51429, 277, 2870, 36396, 780, 60996, 95898, 5422, 34024, 14094, 10629, 259, 81998, 1185, 5874, 1307, 46558, 69277, 260, 364, 40357, 69181, 529, 10409, 5539, 259, 109829, 529, 259, 121850, 2222, 54133, 314, 46321, 79027, 266, 987, 22796, 34059, 764, 10859, 261, 259, 8872, 259, 72359, 2667, 11993, 18712, 40373, 79644, 61057, 662, 51099, 184586, 529, 560, 125507, 85125, 85125, 40373, 42278, 50525, 1137, 260, 1013, 22796, 34059, 50280, 1153, 191787, 259, 72154, 1954, 50525, 267, 259, 277, 36010, 217330, 342, 28429, 4918, 119514, 82167, 47484, 11441, 186283, 529, 431, 12860, 85104, 2215, 96367, 8026, 5225, 4106, 3561, 492, 16586, 672, 187259, 110604, 5276, 260, 3690, 329, 259, 81998, 1786, 25179, 259, 3803, 303, 83587, 261, 165018, 22796, 5225, 48073, 25748, 314, 259, 4427, 17548, 8673, 11915, 6963, 1176, 529, 8954, 516, 259, 81998, 1185, 5522, 26618, 31406, 4632, 28851, 1307, 529, 584, 77419, 10026, 2158, 69277, 260, 313, 13873, 125507, 85125, 85125, 40373, 8341, 261, 3990, 2128, 303, 83587, 529, 259, 41553, 277, 492, 698, 7377, 14564, 259, 262, 54036, 184586, 260, 259, 32668, 9437, 698, 3803, 28279, 259, 47305, 52124, 10026, 16841, 10403, 15720, 13346, 259, 65138, 1647, 758, 259, 51653, 10629, 259, 47305, 285, 18831, 259, 108769, 172306, 529, 259, 114194, 698, 269, 183666, 98759, 226137, 260, 320, 22784, 698, 259, 64118, 9437, 764, 10859, 277, 265, 34601, 344, 8543, 259, 277, 52679, 93394, 6935, 650, 289, 9052, 466, 26673, 277, 37277, 57090, 105612, 88983, 260, 3958, 22796, 34059, 5596, 1153, 191787, 259, 72154, 1954, 50525, 267, 259, 277, 55777, 329, 277, 348, 43361, 698, 21781, 48321, 10888, 86632, 529, 259, 191633, 529, 1001, 4919, 36372, 1785, 259, 27577, 25573, 440, 79172, 42907, 281, 321, 61987, 8341, 260, 259, 45634, 80710, 265, 61511, 259, 41553, 529, 36372, 116163, 20965, 346, 261, 259, 39670, 350, 758, 10034, 769, 259, 36320, 468, 20965, 346, 22796, 145551, 260, 29122, 2508, 259, 87904, 262, 277, 5642, 259, 103801, 59610, 259, 108769, 12880, 368, 9076, 42404, 45380, 274, 97867, 368, 271, 259, 264, 758, 259, 51653, 20965, 346, 259, 47305, 52124, 34059, 10629, 259, 108769, 172306, 259, 260, 49186, 26212, 99708, 263, 5736, 277, 14094, 274, 97867, 368, 271, 386, 208746, 259, 40177, 13012, 259, 8872, 157857, 23107, 15846, 266, 259, 128447, 11993, 18712, 82167, 50998, 79644, 152748, 15575, 260, 298, 208845, 8968, 278, 6157, 698, 34024, 44475, 711, 43928, 44386, 8857, 7995, 277, 2186, 42404, 383, 62056, 529, 1099, 10946, 4808, 407, 10409, 5539, 529, 46321, 79027, 19460, 20965, 346, 259, 98984, 4248, 277, 407, 11110, 10448, 30012, 32330, 266, 4913, 1246, 50525, 260, 259, 47506, 95291, 277, 8961, 12027, 1307, 12892, 261, 259, 122491, 5504, 277, 14094, 36372, 259, 265, 117225, 69181, 10409, 5539, 529, 46321, 79027, 19460, 20965, 346, 22796, 124406, 260, 9155, 3372, 34878, 1599, 57780, 2186, 1118, 62300, 811, 259, 29889, 60978, 14195, 21696, 259, 268, 109060, 259, 3588, 5225, 36372, 11811, 20965, 346, 155077, 86838, 529, 466, 26673, 4501, 137121, 698, 11501, 136875, 24522, 95838, 50525, 260, 1]\n",
            "\n",
            "Text 4: Araştırmacılar, beynin 'nötr' veya sıkıcı olayları...\n",
            "Tokens 4: [298, 111947, 62929, 261, 68074, 1785, 259, 277, 41405, 286, 277, 259, 10756, 43780, 25885, 1786, 124975, 698, 92213, 739, 330, 14573, 9203, 314, 14900, 4106, 35552, 196731, 276, 1216, 180862, 259, 204754, 270, 185079, 260, 1648, 2443, 78177, 880, 448, 60996, 8910, 36897, 265, 6935, 261, 48321, 470, 160157, 15846, 266, 26073, 158636, 10034, 14800, 259, 268, 3723, 259, 84955, 26721, 260, 3719, 330, 109288, 11901, 168087, 196731, 11557, 7409, 114966, 262, 350, 261, 390, 4865, 14798, 259, 268, 2926, 13904, 7072, 57377, 278, 16586, 2128, 4106, 5422, 133214, 2555, 259, 24086, 64882, 648, 1397, 11993, 259, 263, 156410, 2861, 32706, 1786, 128247, 40318, 698, 8350, 278, 157683, 18572, 5389, 260, 16518, 529, 15846, 266, 74258, 286, 28884, 137121, 261, 29425, 92213, 8669, 13508, 8543, 397, 25808, 367, 461, 145897, 206607, 645, 124279, 16941, 18572, 5389, 529, 76770, 62929, 330, 9165, 12227, 38552, 26721, 40073, 100089, 180701, 44407, 58048, 259, 103030, 429, 383, 62056, 105612, 47656, 260, 1361, 4011, 51429, 277, 132239, 189457, 845, 261, 68074, 1785, 4106, 5422, 650, 269, 183666, 26784, 13904, 30204, 321, 259, 277, 285, 198765, 4800, 39564, 1076, 259, 41405, 286, 1786, 88368, 277, 1714, 461, 145897, 294, 20046, 269, 77565, 42278, 461, 161000, 126421, 845, 260, 259, 277, 452, 59185, 259, 13641, 758, 16586, 2128, 294, 20046, 269, 8136, 59867, 291, 3719, 92213, 845, 17010, 1076, 461, 145897, 294, 20046, 206607, 15575, 6225, 67744, 262, 5422, 5539, 76770, 62929, 19379, 24497, 263, 118430, 529, 136530, 1246, 11068, 1421, 486, 259, 165764, 277, 407, 126846, 845, 260, 1153, 15922, 12533, 79692, 368, 390, 4865, 68482, 106053, 286, 157637, 25885, 102934, 286, 259, 10756, 9587, 63140, 1786, 88368, 6290, 92213, 4800, 259, 268, 3723, 100089, 25885, 100089, 43728, 294, 20046, 196731, 178387, 682, 932, 166583, 260, 71147, 648, 259, 68193, 37394, 277, 20343, 730, 16820, 25391, 767, 12434, 93245, 220687, 382, 141842, 20652, 15657, 25179, 294, 20046, 96192, 57090, 67166, 720, 260, 298, 111947, 62929, 261, 1065, 259, 74532, 92213, 4800, 1786, 124975, 261, 698, 131594, 468, 78986, 24644, 259, 1772, 159224, 273, 6290, 259, 41405, 286, 1786, 124975, 196731, 79172, 1076, 4106, 9052, 196731, 79172, 2186, 259, 37887, 259, 53801, 37485, 50525, 260, 431, 198765, 845, 261, 259, 68193, 728, 1315, 11178, 529, 59523, 63843, 6290, 92213, 4800, 22996, 4859, 4344, 18463, 390, 7942, 20199, 265, 170942, 20907, 31506, 529, 26073, 750, 88780, 115345, 6290, 5978, 153185, 150194, 28114, 2202, 75593, 4344, 18463, 20199, 48650, 96192, 47795, 196731, 648, 8350, 278, 24644, 37485, 195471, 286, 260, 2147, 1714, 259, 262, 26654, 108339, 201700, 259, 260, 431, 198765, 845, 1099, 10946, 4808, 407, 4808, 1714, 368, 38552, 26721, 262, 170974, 47410, 17963, 269, 195471, 286, 259, 264, 105041, 9655, 259, 33822, 28884, 278, 698, 10034, 993, 260, 489, 30811, 9367, 92213, 845, 261, 30388, 103685, 8026, 5225, 55761, 278, 32202, 87408, 698, 71415, 282, 259, 29889, 3990, 522, 6290, 1786, 80283, 259, 53920, 4632, 529, 304, 4427, 650, 259, 108769, 3990, 14987, 9174, 993, 672, 3498, 698, 72077, 25748, 314, 6290, 259, 94428, 18864, 259, 53920, 4632, 38552, 26721, 70658, 206607, 40388, 260, 298, 111947, 62929, 261, 730, 16820, 25391, 6290, 1065, 259, 74532, 92213, 4800, 1786, 124975, 261, 698, 131594, 468, 78986, 24644, 259, 1772, 159224, 273, 6290, 259, 41405, 286, 1786, 124975, 196731, 79172, 1076, 4106, 9052, 196731, 79172, 2186, 259, 37887, 259, 53801, 37485, 50525, 260, 364, 9165, 12895, 266, 92213, 4632, 68074, 1785, 90532, 266, 20199, 265, 170942, 20907, 31506, 96192, 13927, 2167, 260, 259, 95076, 78408, 874, 5061, 45215, 730, 16820, 25391, 259, 19436, 270, 259, 84726, 13346, 21186, 698, 674, 73695, 115641, 15575, 259, 260, 298, 111947, 845, 261, 259, 263, 22784, 2715, 259, 35021, 6599, 698, 45915, 295, 468, 58105, 38552, 26721, 25808, 259, 51641, 5749, 82262, 190592, 16065, 739, 59063, 97879, 260, 259, 112746, 281, 191287, 261, 23205, 262, 698, 45915, 295, 468, 58105, 36396, 93825, 16586, 2128, 38552, 26721, 262, 185432, 169847, 175594, 259, 276, 37700, 4913, 1246, 529, 196731, 25179, 259, 277, 3344, 185802, 79692, 368, 277, 54520, 57090, 50525, 259, 264, 259, 21492, 45915, 295, 219013, 259, 23753, 379, 8114, 57856, 321, 259, 40177, 10526, 34491, 687, 259, 276, 37700, 45605, 260, 71147, 11557, 47338, 33610, 2398, 8673, 18802, 645, 529, 259, 277, 199000, 92546, 522, 277, 6290, 4071, 92653, 113922, 360, 18802, 645, 20666, 112425, 36396, 720, 260, 364, 164993, 4106, 5422, 698, 8066, 1184, 226959, 301, 17173, 2128, 83425, 1176, 260, 46843, 107067, 304, 48162, 305, 40138, 442, 318, 96988, 8968, 278, 1099, 184913, 11693, 73090, 262, 12892, 261, 4106, 5422, 63894, 2978, 59086, 314, 24114, 261, 83425, 276, 33610, 4106, 3561, 492, 18802, 645, 20666, 367, 19154, 196731, 8341, 260, 259, 90778, 277, 14094, 45799, 1564, 51429, 277, 11683, 68240, 281, 191287, 261, 8599, 662, 17010, 18712, 8599, 662, 259, 266, 8910, 18062, 2128, 259, 268, 3723, 42942, 278, 390, 7942, 156418, 522, 3777, 6089, 9124, 5978, 36396, 26869, 16586, 7193, 603, 30234, 236847, 2870, 13904, 494, 698, 9616, 43844, 42278, 50525, 260, 98373, 12434, 259, 91680, 1517, 178962, 295, 261, 259, 263, 22784, 2715, 259, 35021, 386, 262, 698, 2941, 1185, 698, 8599, 314, 9165, 259, 277, 334, 141842, 20652, 272, 16586, 259, 56805, 3436, 259, 51641, 5749, 222476, 645, 55306, 42278, 277, 50525, 260, 313, 6187, 47985, 45915, 295, 468, 13927, 259, 47862, 408, 114873, 127696, 38552, 26721, 262, 101892, 2186, 261, 83425, 30729, 9437, 261, 259, 21492, 36396, 645, 46723, 44136, 122297, 115745, 259, 42913, 5422, 4913, 6935, 9052, 31877, 260, 2674, 3803, 1099, 286, 69980, 259, 117544, 368, 92213, 4800, 259, 268, 3723, 8599, 238040, 114966, 262, 350, 261, 269, 183666, 61511, 259, 1986, 77138, 14844, 92213, 4800, 13904, 30204, 37579, 260, 6002, 61651, 272, 261, 32202, 87408, 698, 71415, 282, 259, 29889, 3990, 29927, 461, 39147, 261, 12227, 4632, 448, 139420, 17548, 529, 259, 74933, 408, 150194, 4913, 6290, 26073, 158636, 20853, 286, 260, 259, 207446, 53459, 346, 758, 26073, 215030, 92213, 4800, 39564, 1076, 13904, 494, 65248, 286, 261, 259, 39051, 269, 183666, 3817, 81867, 92653, 282, 12895, 19460, 330, 89892, 196731, 184421, 260, 2051, 260, 24497, 263, 118430, 529, 2051, 260, 11068, 1421, 277, 1785, 76770, 5539, 261, 52851, 192307, 226285, 528, 350, 259, 94428, 18864, 259, 268, 139652, 6789, 216063, 263, 121674, 261, 92213, 4800, 698, 92653, 56808, 5693, 157505, 3841, 12227, 4632, 43780, 25885, 16586, 2128, 4106, 9052, 196731, 42278, 20924, 47656, 260, 313, 32668, 9437, 650, 330, 23216, 15922, 226484, 261, 193911, 106491, 57102, 4106, 5422, 38552, 26721, 262, 8669, 2978, 259, 345, 203959, 880, 12027, 7072, 1786, 96352, 16486, 261, 8601, 47964, 698, 9437, 650, 4418, 698, 40787, 61057, 662, 14844, 26564, 176834, 11454, 569, 261, 12227, 4632, 259, 41405, 286, 584, 163712, 62242, 769, 259, 268, 3723, 196731, 143745, 60996, 314, 311, 17001, 126846, 845, 260, 259, 277, 51558, 750, 261, 120503, 20894, 1954, 756, 2167, 368, 453, 42693, 4418, 698, 61057, 314, 440, 209167, 2861, 32706, 100089, 34629, 314, 14900, 12227, 4632, 259, 41405, 286, 584, 163712, 196731, 143745, 20924, 6112, 260, 8166, 10946, 14514, 368, 261, 453, 42693, 4418, 90532, 266, 584, 163712, 196731, 79644, 1714, 435, 2222, 52851, 4688, 176834, 5482, 269, 758, 259, 97867, 10526, 26564, 272, 38552, 26721, 25808, 206607, 40388, 260, 1153, 530, 112798, 261, 17132, 76755, 38552, 26721, 26490, 32521, 95616, 305, 8417, 92213, 4800, 899, 156267, 265, 682, 932, 137443, 529, 198827, 18872, 261, 28354, 2555, 698, 259, 53920, 492, 26564, 494, 89019, 80688, 13904, 7072, 16586, 7193, 382, 141842, 20652, 294, 20046, 62242, 769, 259, 268, 3723, 39436, 190592, 20924, 15575, 260, 431, 198765, 845, 1099, 10946, 4808, 407, 4808, 1714, 368, 38552, 26721, 262, 170974, 47410, 17963, 269, 195471, 286, 259, 264, 758, 10034, 541, 105041, 9655, 530, 602, 260, 489, 30811, 9367, 92213, 845, 261, 32202, 87408, 698, 71415, 282, 259, 29889, 3990, 522, 274, 130152, 76345, 271, 6290, 1786, 80283, 259, 53920, 4632, 529, 698, 153701, 3990, 14987, 9174, 993, 672, 3498, 698, 72077, 25748, 314, 6290, 259, 94428, 18864, 259, 53920, 4632, 38552, 26721, 70658, 206607, 40388, 260, 431, 198765, 261, 728, 1315, 11178, 274, 97867, 368, 271, 529, 88780, 115345, 274, 205833, 750, 259, 103030, 429, 494, 271, 6290, 5978, 153185, 150194, 28114, 2202, 75593, 9616, 100400, 321, 20199, 80846, 6290, 92213, 4800, 22996, 4859, 9616, 100400, 321, 390, 7942, 20199, 265, 170942, 20907, 31506, 96192, 286, 260, 298, 49210, 92213, 4800, 259, 53920, 17132, 76755, 461, 172038, 41366, 20894, 1955, 5422, 236355, 122230, 448, 14325, 291, 298, 111947, 62929, 259, 1907, 15079, 259, 18954, 42929, 267, 313, 794, 137127, 4808, 407, 25847, 698, 15922, 407, 261, 92213, 4800, 698, 169198, 1351, 4106, 9437, 95183, 36369, 259, 41405, 286, 74258, 286, 1714, 38552, 26721, 25808, 206607, 191999, 516, 170381, 1640, 260, 489, 108664, 25391, 295, 261, 2318, 183878, 528, 350, 440, 141723, 259, 25142, 5061, 967, 4919, 16335, 880, 698, 87202, 13904, 7072, 259, 97867, 60996, 1137, 260, 2674, 171662, 64083, 5422, 259, 318, 108664, 25391, 967, 5978, 698, 87202, 2318, 2529, 529, 1281, 270, 259, 32841, 5693, 87397, 259, 264, 259, 39051, 758, 28279, 193911, 106491, 57102, 584, 163712, 60996, 314, 24114, 3871, 208907, 265, 40787, 61057, 662, 672, 17445, 260, 259, 277, 74765, 61057, 662, 14844, 32633, 144830, 26869, 8601, 47964, 1714, 38552, 26721, 26490, 102480, 278, 103561, 466, 687, 259, 196018, 25621, 260, 298, 49210, 259, 44246, 261, 61057, 314, 1954, 2318, 2529, 259, 97867, 56380, 32633, 144830, 78177, 368, 261, 259, 318, 108664, 9367, 7193, 1001, 27568, 698, 61057, 314, 189133, 880, 9437, 60996, 117763, 2318, 2529, 584, 163712, 1714, 38552, 26721, 26490, 102480, 278, 57090, 170381, 1640, 260, 313, 621, 108664, 25391, 967, 1281, 270, 584, 163712, 115641, 137121, 61057, 314, 672, 78177, 368, 261, 4106, 9437, 60996, 117763, 1281, 270, 259, 97867, 14564, 26564, 272, 38552, 26721, 262, 102480, 49732, 260, 443, 8047, 18864, 269, 183666, 261, 10629, 269, 183666, 3817, 137121, 41878, 278, 13904, 7072, 3143, 15846, 266, 74258, 286, 1714, 38552, 26721, 25808, 62242, 769, 259, 268, 3723, 82262, 36255, 260, 38136, 26721, 262, 174601, 259, 263, 22784, 141092, 30685, 196731, 3724, 1714, 16353, 261, 79073, 9061, 650, 26992, 120682, 179635, 5482, 1714, 269, 36303, 184421, 260, 431, 198765, 845, 261, 62242, 282, 129982, 115329, 5482, 1714, 15846, 266, 16586, 2128, 196731, 137851, 262, 259, 276, 37700, 14325, 261, 259, 39051, 13904, 7072, 57377, 278, 259, 318, 75573, 153185, 65484, 5978, 13904, 494, 16586, 26784, 206607, 645, 8350, 278, 24644, 15720, 1076, 261, 79073, 9061, 650, 52851, 183573, 266, 177150, 37579, 259, 10756, 1099, 10946, 22149, 1954, 63894, 9205, 214728, 260, 1]\n",
            "\n"
          ]
        }
      ]
    },
    {
      "cell_type": "code",
      "source": [
        "print(validation_df.isnull().sum())  # Boş hücreleri say\n",
        "print(validation_df.head())          # İlk satırları göster\n",
        "\n",
        "\n"
      ],
      "metadata": {
        "id": "jH8wTNlwhxPa",
        "outputId": "bb5f6827-960f-41b6-9e01-e8e92ff9d081",
        "colab": {
          "base_uri": "https://localhost:8080/"
        }
      },
      "execution_count": 19,
      "outputs": [
        {
          "output_type": "stream",
          "name": "stdout",
          "text": [
            "﻿article      0\n",
            "highlights    0\n",
            "dtype: int64\n",
            "                                            ﻿article  \\\n",
            "0  Memphis, Cuma günü Oklahoma City karşısında al...   \n",
            "1  Genellikle evde filtre kahve demlerken kahve t...   \n",
            "2  Ronald Reagan'ı vuran adamı tedavi eden bir ps...   \n",
            "3  Durham'dan 23 yaşındaki Lix Bussey, erkek arka...   \n",
            "4  Araştırmacılar, beynin 'nötr' veya sıkıcı olay...   \n",
            "\n",
            "                                          highlights  \n",
            "0  Memphis Grizzles'ın savunması Oklahoma City ka...  \n",
            "1  Tüy bırakmayan ve yırtılmaya karşı dayanıklı f...  \n",
            "2  Dr. Giorgi-Guarnieri, Hinckley'nin akıl hastan...  \n",
            "3  Durham'dan 23 yaşındaki Alix Bussey Meksika ta...  \n",
            "4  New York Üniversitesi psikologları beynin anıl...  \n"
          ]
        }
      ]
    },
    {
      "cell_type": "code",
      "execution_count": 20,
      "metadata": {
        "colab": {
          "base_uri": "https://localhost:8080/"
        },
        "id": "508khiopPV67",
        "outputId": "fbae4649-8b9e-45fc-8b5a-a98b43020fe9"
      },
      "outputs": [
        {
          "output_type": "stream",
          "name": "stderr",
          "text": [
            "/usr/local/lib/python3.11/dist-packages/transformers/training_args.py:1611: FutureWarning: `evaluation_strategy` is deprecated and will be removed in version 4.46 of 🤗 Transformers. Use `eval_strategy` instead\n",
            "  warnings.warn(\n"
          ]
        }
      ],
      "source": [
        "from transformers import Seq2SeqTrainingArguments\n",
        "\n",
        "training_args = Seq2SeqTrainingArguments(\n",
        "    output_dir=\"mt5-summarize-tr\",\n",
        "    log_level=\"error\",\n",
        "    num_train_epochs=10,  # 15 yerine 10 (overfitting riskini azaltmak için)\n",
        "    learning_rate=1e-6,  # 3e-5 fazla olabilir, 2e-5 daha stabil\n",
        "    lr_scheduler_type=\"linear\",\n",
        "    warmup_steps=800,  # 1000 yerine 800 (hızlı stabilizasyon için)\n",
        "    optim=\"adafactor\",\n",
        "    weight_decay=0.01,\n",
        "    per_device_train_batch_size=8,  # Batch size'ı küçültün\n",
        "    per_device_eval_batch_size=8,\n",
        "    gradient_accumulation_steps=16\n",
        "    evaluation_strategy=\"steps\",\n",
        "    eval_steps=200,  # 250 yerine 200 (erken durdurma için daha sık değerlendirme)\n",
        "    predict_with_generate=True,\n",
        "    generation_max_length=256,\n",
        "    save_steps=1000,  # 2000 yerine 1000 (daha sık model kaydı)\n",
        "    logging_steps=50,\n",
        "    load_best_model_at_end=True,\n",
        "    metric_for_best_model=\"eval_loss\",\n",
        "    greater_is_better=False,\n",
        "    save_total_limit=3,  # En iyi 3 modeli sakla, disk kullanımını optimize et\n",
        "    report_to=\"none\",  # WandB veya TensorBoard istemiyorsan \"none\"\n",
        ")\n"
      ]
    },
    {
      "cell_type": "code",
      "source": [
        "for i, seq in enumerate(tokenized_ds[\"validation\"][\"labels\"]):\n",
        "    for token_id in seq:\n",
        "        if token_id >= tokenizer.vocab_size or token_id < 0:\n",
        "            print(f\"Hatalı Token ID Bulundu! Index: {i}, Token ID: {token_id}\")\n"
      ],
      "metadata": {
        "id": "pfbSCwL8-Rr-"
      },
      "execution_count": 21,
      "outputs": []
    },
    {
      "cell_type": "code",
      "source": [
        "print(f\"Tokenizer: {tokenizer.name_or_path}\")\n",
        "print(f\"Model: {model.config._name_or_path}\")\n"
      ],
      "metadata": {
        "id": "zsPHAKsKQKR6",
        "outputId": "b91e31d1-d2ba-4a4f-be43-0d018deab0df",
        "colab": {
          "base_uri": "https://localhost:8080/"
        }
      },
      "execution_count": 22,
      "outputs": [
        {
          "output_type": "stream",
          "name": "stdout",
          "text": [
            "Tokenizer: google/mt5-small\n",
            "Model: google/mt5-small\n"
          ]
        }
      ]
    },
    {
      "cell_type": "code",
      "execution_count": 23,
      "metadata": {
        "colab": {
          "base_uri": "https://localhost:8080/",
          "height": 416
        },
        "id": "GdDg8SNEPV68",
        "outputId": "52ef746e-3c10-4af8-a4de-412eb265014e",
        "collapsed": true
      },
      "outputs": [
        {
          "output_type": "display_data",
          "data": {
            "text/plain": [
              "<IPython.core.display.HTML object>"
            ],
            "text/html": [
              "\n",
              "    <div>\n",
              "      \n",
              "      <progress value='201' max='1950' style='width:300px; height:20px; vertical-align: middle;'></progress>\n",
              "      [ 201/1950 29:16 < 4:17:20, 0.11 it/s, Epoch 1.02/10]\n",
              "    </div>\n",
              "    <table border=\"1\" class=\"dataframe\">\n",
              "  <thead>\n",
              " <tr style=\"text-align: left;\">\n",
              "      <th>Step</th>\n",
              "      <th>Training Loss</th>\n",
              "      <th>Validation Loss</th>\n",
              "    </tr>\n",
              "  </thead>\n",
              "  <tbody>\n",
              "  </tbody>\n",
              "</table><p>\n",
              "    <div>\n",
              "      \n",
              "      <progress value='140' max='140' style='width:300px; height:20px; vertical-align: middle;'></progress>\n",
              "      [140/140 01:53]\n",
              "    </div>\n",
              "    "
            ]
          },
          "metadata": {}
        },
        {
          "output_type": "error",
          "ename": "IndexError",
          "evalue": "piece id is out of range.",
          "traceback": [
            "\u001b[0;31m---------------------------------------------------------------------------\u001b[0m",
            "\u001b[0;31mIndexError\u001b[0m                                Traceback (most recent call last)",
            "\u001b[0;32m<ipython-input-23-1532e765efb1>\u001b[0m in \u001b[0;36m<cell line: 0>\u001b[0;34m()\u001b[0m\n\u001b[1;32m     17\u001b[0m )\n\u001b[1;32m     18\u001b[0m \u001b[0;34m\u001b[0m\u001b[0m\n\u001b[0;32m---> 19\u001b[0;31m \u001b[0mtrainer\u001b[0m\u001b[0;34m.\u001b[0m\u001b[0mtrain\u001b[0m\u001b[0;34m(\u001b[0m\u001b[0;34m)\u001b[0m\u001b[0;34m\u001b[0m\u001b[0;34m\u001b[0m\u001b[0m\n\u001b[0m",
            "\u001b[0;32m/usr/local/lib/python3.11/dist-packages/transformers/trainer.py\u001b[0m in \u001b[0;36mtrain\u001b[0;34m(self, resume_from_checkpoint, trial, ignore_keys_for_eval, **kwargs)\u001b[0m\n\u001b[1;32m   2243\u001b[0m                 \u001b[0mhf_hub_utils\u001b[0m\u001b[0;34m.\u001b[0m\u001b[0menable_progress_bars\u001b[0m\u001b[0;34m(\u001b[0m\u001b[0;34m)\u001b[0m\u001b[0;34m\u001b[0m\u001b[0;34m\u001b[0m\u001b[0m\n\u001b[1;32m   2244\u001b[0m         \u001b[0;32melse\u001b[0m\u001b[0;34m:\u001b[0m\u001b[0;34m\u001b[0m\u001b[0;34m\u001b[0m\u001b[0m\n\u001b[0;32m-> 2245\u001b[0;31m             return inner_training_loop(\n\u001b[0m\u001b[1;32m   2246\u001b[0m                 \u001b[0margs\u001b[0m\u001b[0;34m=\u001b[0m\u001b[0margs\u001b[0m\u001b[0;34m,\u001b[0m\u001b[0;34m\u001b[0m\u001b[0;34m\u001b[0m\u001b[0m\n\u001b[1;32m   2247\u001b[0m                 \u001b[0mresume_from_checkpoint\u001b[0m\u001b[0;34m=\u001b[0m\u001b[0mresume_from_checkpoint\u001b[0m\u001b[0;34m,\u001b[0m\u001b[0;34m\u001b[0m\u001b[0;34m\u001b[0m\u001b[0m\n",
            "\u001b[0;32m/usr/local/lib/python3.11/dist-packages/transformers/trainer.py\u001b[0m in \u001b[0;36m_inner_training_loop\u001b[0;34m(self, batch_size, args, resume_from_checkpoint, trial, ignore_keys_for_eval)\u001b[0m\n\u001b[1;32m   2618\u001b[0m                         \u001b[0mself\u001b[0m\u001b[0;34m.\u001b[0m\u001b[0mstate\u001b[0m\u001b[0;34m.\u001b[0m\u001b[0mepoch\u001b[0m \u001b[0;34m=\u001b[0m \u001b[0mepoch\u001b[0m \u001b[0;34m+\u001b[0m \u001b[0;34m(\u001b[0m\u001b[0mstep\u001b[0m \u001b[0;34m+\u001b[0m \u001b[0;36m1\u001b[0m \u001b[0;34m+\u001b[0m \u001b[0msteps_skipped\u001b[0m\u001b[0;34m)\u001b[0m \u001b[0;34m/\u001b[0m \u001b[0msteps_in_epoch\u001b[0m\u001b[0;34m\u001b[0m\u001b[0;34m\u001b[0m\u001b[0m\n\u001b[1;32m   2619\u001b[0m                         \u001b[0mself\u001b[0m\u001b[0;34m.\u001b[0m\u001b[0mcontrol\u001b[0m \u001b[0;34m=\u001b[0m \u001b[0mself\u001b[0m\u001b[0;34m.\u001b[0m\u001b[0mcallback_handler\u001b[0m\u001b[0;34m.\u001b[0m\u001b[0mon_step_end\u001b[0m\u001b[0;34m(\u001b[0m\u001b[0margs\u001b[0m\u001b[0;34m,\u001b[0m \u001b[0mself\u001b[0m\u001b[0;34m.\u001b[0m\u001b[0mstate\u001b[0m\u001b[0;34m,\u001b[0m \u001b[0mself\u001b[0m\u001b[0;34m.\u001b[0m\u001b[0mcontrol\u001b[0m\u001b[0;34m)\u001b[0m\u001b[0;34m\u001b[0m\u001b[0;34m\u001b[0m\u001b[0m\n\u001b[0;32m-> 2620\u001b[0;31m                         self._maybe_log_save_evaluate(\n\u001b[0m\u001b[1;32m   2621\u001b[0m                             \u001b[0mtr_loss\u001b[0m\u001b[0;34m,\u001b[0m \u001b[0mgrad_norm\u001b[0m\u001b[0;34m,\u001b[0m \u001b[0mmodel\u001b[0m\u001b[0;34m,\u001b[0m \u001b[0mtrial\u001b[0m\u001b[0;34m,\u001b[0m \u001b[0mepoch\u001b[0m\u001b[0;34m,\u001b[0m \u001b[0mignore_keys_for_eval\u001b[0m\u001b[0;34m,\u001b[0m \u001b[0mstart_time\u001b[0m\u001b[0;34m\u001b[0m\u001b[0;34m\u001b[0m\u001b[0m\n\u001b[1;32m   2622\u001b[0m                         )\n",
            "\u001b[0;32m/usr/local/lib/python3.11/dist-packages/transformers/trainer.py\u001b[0m in \u001b[0;36m_maybe_log_save_evaluate\u001b[0;34m(self, tr_loss, grad_norm, model, trial, epoch, ignore_keys_for_eval, start_time)\u001b[0m\n\u001b[1;32m   3091\u001b[0m         \u001b[0mmetrics\u001b[0m \u001b[0;34m=\u001b[0m \u001b[0;32mNone\u001b[0m\u001b[0;34m\u001b[0m\u001b[0;34m\u001b[0m\u001b[0m\n\u001b[1;32m   3092\u001b[0m         \u001b[0;32mif\u001b[0m \u001b[0mself\u001b[0m\u001b[0;34m.\u001b[0m\u001b[0mcontrol\u001b[0m\u001b[0;34m.\u001b[0m\u001b[0mshould_evaluate\u001b[0m\u001b[0;34m:\u001b[0m\u001b[0;34m\u001b[0m\u001b[0;34m\u001b[0m\u001b[0m\n\u001b[0;32m-> 3093\u001b[0;31m             \u001b[0mmetrics\u001b[0m \u001b[0;34m=\u001b[0m \u001b[0mself\u001b[0m\u001b[0;34m.\u001b[0m\u001b[0m_evaluate\u001b[0m\u001b[0;34m(\u001b[0m\u001b[0mtrial\u001b[0m\u001b[0;34m,\u001b[0m \u001b[0mignore_keys_for_eval\u001b[0m\u001b[0;34m)\u001b[0m\u001b[0;34m\u001b[0m\u001b[0;34m\u001b[0m\u001b[0m\n\u001b[0m\u001b[1;32m   3094\u001b[0m             \u001b[0mis_new_best_metric\u001b[0m \u001b[0;34m=\u001b[0m \u001b[0mself\u001b[0m\u001b[0;34m.\u001b[0m\u001b[0m_determine_best_metric\u001b[0m\u001b[0;34m(\u001b[0m\u001b[0mmetrics\u001b[0m\u001b[0;34m=\u001b[0m\u001b[0mmetrics\u001b[0m\u001b[0;34m,\u001b[0m \u001b[0mtrial\u001b[0m\u001b[0;34m=\u001b[0m\u001b[0mtrial\u001b[0m\u001b[0;34m)\u001b[0m\u001b[0;34m\u001b[0m\u001b[0;34m\u001b[0m\u001b[0m\n\u001b[1;32m   3095\u001b[0m \u001b[0;34m\u001b[0m\u001b[0m\n",
            "\u001b[0;32m/usr/local/lib/python3.11/dist-packages/transformers/trainer.py\u001b[0m in \u001b[0;36m_evaluate\u001b[0;34m(self, trial, ignore_keys_for_eval, skip_scheduler)\u001b[0m\n\u001b[1;32m   3045\u001b[0m \u001b[0;34m\u001b[0m\u001b[0m\n\u001b[1;32m   3046\u001b[0m     \u001b[0;32mdef\u001b[0m \u001b[0m_evaluate\u001b[0m\u001b[0;34m(\u001b[0m\u001b[0mself\u001b[0m\u001b[0;34m,\u001b[0m \u001b[0mtrial\u001b[0m\u001b[0;34m,\u001b[0m \u001b[0mignore_keys_for_eval\u001b[0m\u001b[0;34m,\u001b[0m \u001b[0mskip_scheduler\u001b[0m\u001b[0;34m=\u001b[0m\u001b[0;32mFalse\u001b[0m\u001b[0;34m)\u001b[0m\u001b[0;34m:\u001b[0m\u001b[0;34m\u001b[0m\u001b[0;34m\u001b[0m\u001b[0m\n\u001b[0;32m-> 3047\u001b[0;31m         \u001b[0mmetrics\u001b[0m \u001b[0;34m=\u001b[0m \u001b[0mself\u001b[0m\u001b[0;34m.\u001b[0m\u001b[0mevaluate\u001b[0m\u001b[0;34m(\u001b[0m\u001b[0mignore_keys\u001b[0m\u001b[0;34m=\u001b[0m\u001b[0mignore_keys_for_eval\u001b[0m\u001b[0;34m)\u001b[0m\u001b[0;34m\u001b[0m\u001b[0;34m\u001b[0m\u001b[0m\n\u001b[0m\u001b[1;32m   3048\u001b[0m         \u001b[0mself\u001b[0m\u001b[0;34m.\u001b[0m\u001b[0m_report_to_hp_search\u001b[0m\u001b[0;34m(\u001b[0m\u001b[0mtrial\u001b[0m\u001b[0;34m,\u001b[0m \u001b[0mself\u001b[0m\u001b[0;34m.\u001b[0m\u001b[0mstate\u001b[0m\u001b[0;34m.\u001b[0m\u001b[0mglobal_step\u001b[0m\u001b[0;34m,\u001b[0m \u001b[0mmetrics\u001b[0m\u001b[0;34m)\u001b[0m\u001b[0;34m\u001b[0m\u001b[0;34m\u001b[0m\u001b[0m\n\u001b[1;32m   3049\u001b[0m \u001b[0;34m\u001b[0m\u001b[0m\n",
            "\u001b[0;32m/usr/local/lib/python3.11/dist-packages/transformers/trainer_seq2seq.py\u001b[0m in \u001b[0;36mevaluate\u001b[0;34m(self, eval_dataset, ignore_keys, metric_key_prefix, **gen_kwargs)\u001b[0m\n\u001b[1;32m    195\u001b[0m         \u001b[0mself\u001b[0m\u001b[0;34m.\u001b[0m\u001b[0mgather_function\u001b[0m \u001b[0;34m=\u001b[0m \u001b[0mself\u001b[0m\u001b[0;34m.\u001b[0m\u001b[0maccelerator\u001b[0m\u001b[0;34m.\u001b[0m\u001b[0mgather\u001b[0m\u001b[0;34m\u001b[0m\u001b[0;34m\u001b[0m\u001b[0m\n\u001b[1;32m    196\u001b[0m         \u001b[0mself\u001b[0m\u001b[0;34m.\u001b[0m\u001b[0m_gen_kwargs\u001b[0m \u001b[0;34m=\u001b[0m \u001b[0mgen_kwargs\u001b[0m\u001b[0;34m\u001b[0m\u001b[0;34m\u001b[0m\u001b[0m\n\u001b[0;32m--> 197\u001b[0;31m         \u001b[0;32mreturn\u001b[0m \u001b[0msuper\u001b[0m\u001b[0;34m(\u001b[0m\u001b[0;34m)\u001b[0m\u001b[0;34m.\u001b[0m\u001b[0mevaluate\u001b[0m\u001b[0;34m(\u001b[0m\u001b[0meval_dataset\u001b[0m\u001b[0;34m,\u001b[0m \u001b[0mignore_keys\u001b[0m\u001b[0;34m=\u001b[0m\u001b[0mignore_keys\u001b[0m\u001b[0;34m,\u001b[0m \u001b[0mmetric_key_prefix\u001b[0m\u001b[0;34m=\u001b[0m\u001b[0mmetric_key_prefix\u001b[0m\u001b[0;34m)\u001b[0m\u001b[0;34m\u001b[0m\u001b[0;34m\u001b[0m\u001b[0m\n\u001b[0m\u001b[1;32m    198\u001b[0m \u001b[0;34m\u001b[0m\u001b[0m\n\u001b[1;32m    199\u001b[0m     def predict(\n",
            "\u001b[0;32m/usr/local/lib/python3.11/dist-packages/transformers/trainer.py\u001b[0m in \u001b[0;36mevaluate\u001b[0;34m(self, eval_dataset, ignore_keys, metric_key_prefix)\u001b[0m\n\u001b[1;32m   4134\u001b[0m \u001b[0;34m\u001b[0m\u001b[0m\n\u001b[1;32m   4135\u001b[0m         \u001b[0meval_loop\u001b[0m \u001b[0;34m=\u001b[0m \u001b[0mself\u001b[0m\u001b[0;34m.\u001b[0m\u001b[0mprediction_loop\u001b[0m \u001b[0;32mif\u001b[0m \u001b[0mself\u001b[0m\u001b[0;34m.\u001b[0m\u001b[0margs\u001b[0m\u001b[0;34m.\u001b[0m\u001b[0muse_legacy_prediction_loop\u001b[0m \u001b[0;32melse\u001b[0m \u001b[0mself\u001b[0m\u001b[0;34m.\u001b[0m\u001b[0mevaluation_loop\u001b[0m\u001b[0;34m\u001b[0m\u001b[0;34m\u001b[0m\u001b[0m\n\u001b[0;32m-> 4136\u001b[0;31m         output = eval_loop(\n\u001b[0m\u001b[1;32m   4137\u001b[0m             \u001b[0meval_dataloader\u001b[0m\u001b[0;34m,\u001b[0m\u001b[0;34m\u001b[0m\u001b[0;34m\u001b[0m\u001b[0m\n\u001b[1;32m   4138\u001b[0m             \u001b[0mdescription\u001b[0m\u001b[0;34m=\u001b[0m\u001b[0;34m\"Evaluation\"\u001b[0m\u001b[0;34m,\u001b[0m\u001b[0;34m\u001b[0m\u001b[0;34m\u001b[0m\u001b[0m\n",
            "\u001b[0;32m/usr/local/lib/python3.11/dist-packages/transformers/trainer.py\u001b[0m in \u001b[0;36mevaluation_loop\u001b[0;34m(self, dataloader, description, prediction_loss_only, ignore_keys, metric_key_prefix)\u001b[0m\n\u001b[1;32m   4423\u001b[0m             \u001b[0meval_set_kwargs\u001b[0m\u001b[0;34m[\u001b[0m\u001b[0;34m\"losses\"\u001b[0m\u001b[0;34m]\u001b[0m \u001b[0;34m=\u001b[0m \u001b[0mall_losses\u001b[0m \u001b[0;32mif\u001b[0m \u001b[0;34m\"loss\"\u001b[0m \u001b[0;32min\u001b[0m \u001b[0margs\u001b[0m\u001b[0;34m.\u001b[0m\u001b[0minclude_for_metrics\u001b[0m \u001b[0;32melse\u001b[0m \u001b[0;32mNone\u001b[0m\u001b[0;34m\u001b[0m\u001b[0;34m\u001b[0m\u001b[0m\n\u001b[1;32m   4424\u001b[0m             \u001b[0meval_set_kwargs\u001b[0m\u001b[0;34m[\u001b[0m\u001b[0;34m\"inputs\"\u001b[0m\u001b[0;34m]\u001b[0m \u001b[0;34m=\u001b[0m \u001b[0mall_inputs\u001b[0m \u001b[0;32mif\u001b[0m \u001b[0;34m\"inputs\"\u001b[0m \u001b[0;32min\u001b[0m \u001b[0margs\u001b[0m\u001b[0;34m.\u001b[0m\u001b[0minclude_for_metrics\u001b[0m \u001b[0;32melse\u001b[0m \u001b[0;32mNone\u001b[0m\u001b[0;34m\u001b[0m\u001b[0;34m\u001b[0m\u001b[0m\n\u001b[0;32m-> 4425\u001b[0;31m             metrics = self.compute_metrics(\n\u001b[0m\u001b[1;32m   4426\u001b[0m                 \u001b[0mEvalPrediction\u001b[0m\u001b[0;34m(\u001b[0m\u001b[0mpredictions\u001b[0m\u001b[0;34m=\u001b[0m\u001b[0mall_preds\u001b[0m\u001b[0;34m,\u001b[0m \u001b[0mlabel_ids\u001b[0m\u001b[0;34m=\u001b[0m\u001b[0mall_labels\u001b[0m\u001b[0;34m,\u001b[0m \u001b[0;34m**\u001b[0m\u001b[0meval_set_kwargs\u001b[0m\u001b[0;34m)\u001b[0m\u001b[0;34m\u001b[0m\u001b[0;34m\u001b[0m\u001b[0m\n\u001b[1;32m   4427\u001b[0m             )\n",
            "\u001b[0;32m<ipython-input-16-a8c096fa8da6>\u001b[0m in \u001b[0;36mmetrics_func\u001b[0;34m(eval_arg)\u001b[0m\n\u001b[1;32m     15\u001b[0m   \u001b[0mlabels\u001b[0m \u001b[0;34m=\u001b[0m \u001b[0mnp\u001b[0m\u001b[0;34m.\u001b[0m\u001b[0mwhere\u001b[0m\u001b[0;34m(\u001b[0m\u001b[0mlabels\u001b[0m \u001b[0;34m!=\u001b[0m \u001b[0;34m-\u001b[0m\u001b[0;36m100\u001b[0m\u001b[0;34m,\u001b[0m \u001b[0mlabels\u001b[0m\u001b[0;34m,\u001b[0m \u001b[0mtokenizer\u001b[0m\u001b[0;34m.\u001b[0m\u001b[0mpad_token_id\u001b[0m\u001b[0;34m)\u001b[0m\u001b[0;34m\u001b[0m\u001b[0;34m\u001b[0m\u001b[0m\n\u001b[1;32m     16\u001b[0m   \u001b[0;31m# Convert id tokens to text\u001b[0m\u001b[0;34m\u001b[0m\u001b[0;34m\u001b[0m\u001b[0m\n\u001b[0;32m---> 17\u001b[0;31m   \u001b[0mtext_preds\u001b[0m \u001b[0;34m=\u001b[0m \u001b[0mtokenizer\u001b[0m\u001b[0;34m.\u001b[0m\u001b[0mbatch_decode\u001b[0m\u001b[0;34m(\u001b[0m\u001b[0mpreds\u001b[0m\u001b[0;34m,\u001b[0m \u001b[0mskip_special_tokens\u001b[0m\u001b[0;34m=\u001b[0m\u001b[0;32mTrue\u001b[0m\u001b[0;34m)\u001b[0m\u001b[0;34m\u001b[0m\u001b[0;34m\u001b[0m\u001b[0m\n\u001b[0m\u001b[1;32m     18\u001b[0m   \u001b[0mtext_labels\u001b[0m \u001b[0;34m=\u001b[0m \u001b[0mtokenizer\u001b[0m\u001b[0;34m.\u001b[0m\u001b[0mbatch_decode\u001b[0m\u001b[0;34m(\u001b[0m\u001b[0mlabels\u001b[0m\u001b[0;34m,\u001b[0m \u001b[0mskip_special_tokens\u001b[0m\u001b[0;34m=\u001b[0m\u001b[0;32mTrue\u001b[0m\u001b[0;34m)\u001b[0m\u001b[0;34m\u001b[0m\u001b[0;34m\u001b[0m\u001b[0m\n\u001b[1;32m     19\u001b[0m   \u001b[0;31m# Insert a line break (\\n) in each sentence for ROUGE scoring\u001b[0m\u001b[0;34m\u001b[0m\u001b[0;34m\u001b[0m\u001b[0m\n",
            "\u001b[0;32m/usr/local/lib/python3.11/dist-packages/transformers/tokenization_utils_base.py\u001b[0m in \u001b[0;36mbatch_decode\u001b[0;34m(self, sequences, skip_special_tokens, clean_up_tokenization_spaces, **kwargs)\u001b[0m\n\u001b[1;32m   3828\u001b[0m             \u001b[0;31m`\u001b[0m\u001b[0mList\u001b[0m\u001b[0;34m[\u001b[0m\u001b[0mstr\u001b[0m\u001b[0;34m]\u001b[0m\u001b[0;31m`\u001b[0m\u001b[0;34m:\u001b[0m \u001b[0mThe\u001b[0m \u001b[0mlist\u001b[0m \u001b[0mof\u001b[0m \u001b[0mdecoded\u001b[0m \u001b[0msentences\u001b[0m\u001b[0;34m.\u001b[0m\u001b[0;34m\u001b[0m\u001b[0;34m\u001b[0m\u001b[0m\n\u001b[1;32m   3829\u001b[0m         \"\"\"\n\u001b[0;32m-> 3830\u001b[0;31m         return [\n\u001b[0m\u001b[1;32m   3831\u001b[0m             self.decode(\n\u001b[1;32m   3832\u001b[0m                 \u001b[0mseq\u001b[0m\u001b[0;34m,\u001b[0m\u001b[0;34m\u001b[0m\u001b[0;34m\u001b[0m\u001b[0m\n",
            "\u001b[0;32m/usr/local/lib/python3.11/dist-packages/transformers/tokenization_utils_base.py\u001b[0m in \u001b[0;36m<listcomp>\u001b[0;34m(.0)\u001b[0m\n\u001b[1;32m   3829\u001b[0m         \"\"\"\n\u001b[1;32m   3830\u001b[0m         return [\n\u001b[0;32m-> 3831\u001b[0;31m             self.decode(\n\u001b[0m\u001b[1;32m   3832\u001b[0m                 \u001b[0mseq\u001b[0m\u001b[0;34m,\u001b[0m\u001b[0;34m\u001b[0m\u001b[0;34m\u001b[0m\u001b[0m\n\u001b[1;32m   3833\u001b[0m                 \u001b[0mskip_special_tokens\u001b[0m\u001b[0;34m=\u001b[0m\u001b[0mskip_special_tokens\u001b[0m\u001b[0;34m,\u001b[0m\u001b[0;34m\u001b[0m\u001b[0;34m\u001b[0m\u001b[0m\n",
            "\u001b[0;32m/usr/local/lib/python3.11/dist-packages/transformers/tokenization_utils_base.py\u001b[0m in \u001b[0;36mdecode\u001b[0;34m(self, token_ids, skip_special_tokens, clean_up_tokenization_spaces, **kwargs)\u001b[0m\n\u001b[1;32m   3868\u001b[0m         \u001b[0mtoken_ids\u001b[0m \u001b[0;34m=\u001b[0m \u001b[0mto_py_obj\u001b[0m\u001b[0;34m(\u001b[0m\u001b[0mtoken_ids\u001b[0m\u001b[0;34m)\u001b[0m\u001b[0;34m\u001b[0m\u001b[0;34m\u001b[0m\u001b[0m\n\u001b[1;32m   3869\u001b[0m \u001b[0;34m\u001b[0m\u001b[0m\n\u001b[0;32m-> 3870\u001b[0;31m         return self._decode(\n\u001b[0m\u001b[1;32m   3871\u001b[0m             \u001b[0mtoken_ids\u001b[0m\u001b[0;34m=\u001b[0m\u001b[0mtoken_ids\u001b[0m\u001b[0;34m,\u001b[0m\u001b[0;34m\u001b[0m\u001b[0;34m\u001b[0m\u001b[0m\n\u001b[1;32m   3872\u001b[0m             \u001b[0mskip_special_tokens\u001b[0m\u001b[0;34m=\u001b[0m\u001b[0mskip_special_tokens\u001b[0m\u001b[0;34m,\u001b[0m\u001b[0;34m\u001b[0m\u001b[0;34m\u001b[0m\u001b[0m\n",
            "\u001b[0;32m/usr/local/lib/python3.11/dist-packages/transformers/tokenization_utils.py\u001b[0m in \u001b[0;36m_decode\u001b[0;34m(self, token_ids, skip_special_tokens, clean_up_tokenization_spaces, spaces_between_special_tokens, **kwargs)\u001b[0m\n\u001b[1;32m   1088\u001b[0m         \u001b[0mself\u001b[0m\u001b[0;34m.\u001b[0m\u001b[0m_decode_use_source_tokenizer\u001b[0m \u001b[0;34m=\u001b[0m \u001b[0mkwargs\u001b[0m\u001b[0;34m.\u001b[0m\u001b[0mpop\u001b[0m\u001b[0;34m(\u001b[0m\u001b[0;34m\"use_source_tokenizer\"\u001b[0m\u001b[0;34m,\u001b[0m \u001b[0;32mFalse\u001b[0m\u001b[0;34m)\u001b[0m\u001b[0;34m\u001b[0m\u001b[0;34m\u001b[0m\u001b[0m\n\u001b[1;32m   1089\u001b[0m \u001b[0;34m\u001b[0m\u001b[0m\n\u001b[0;32m-> 1090\u001b[0;31m         \u001b[0mfiltered_tokens\u001b[0m \u001b[0;34m=\u001b[0m \u001b[0mself\u001b[0m\u001b[0;34m.\u001b[0m\u001b[0mconvert_ids_to_tokens\u001b[0m\u001b[0;34m(\u001b[0m\u001b[0mtoken_ids\u001b[0m\u001b[0;34m,\u001b[0m \u001b[0mskip_special_tokens\u001b[0m\u001b[0;34m=\u001b[0m\u001b[0mskip_special_tokens\u001b[0m\u001b[0;34m)\u001b[0m\u001b[0;34m\u001b[0m\u001b[0;34m\u001b[0m\u001b[0m\n\u001b[0m\u001b[1;32m   1091\u001b[0m         \u001b[0;31m# If given is a single id, prevents splitting the string in upcoming loop\u001b[0m\u001b[0;34m\u001b[0m\u001b[0;34m\u001b[0m\u001b[0m\n\u001b[1;32m   1092\u001b[0m         \u001b[0;32mif\u001b[0m \u001b[0misinstance\u001b[0m\u001b[0;34m(\u001b[0m\u001b[0mfiltered_tokens\u001b[0m\u001b[0;34m,\u001b[0m \u001b[0mstr\u001b[0m\u001b[0;34m)\u001b[0m\u001b[0;34m:\u001b[0m\u001b[0;34m\u001b[0m\u001b[0;34m\u001b[0m\u001b[0m\n",
            "\u001b[0;32m/usr/local/lib/python3.11/dist-packages/transformers/tokenization_utils.py\u001b[0m in \u001b[0;36mconvert_ids_to_tokens\u001b[0;34m(self, ids, skip_special_tokens)\u001b[0m\n\u001b[1;32m   1069\u001b[0m                 \u001b[0mtokens\u001b[0m\u001b[0;34m.\u001b[0m\u001b[0mappend\u001b[0m\u001b[0;34m(\u001b[0m\u001b[0mself\u001b[0m\u001b[0;34m.\u001b[0m\u001b[0m_added_tokens_decoder\u001b[0m\u001b[0;34m[\u001b[0m\u001b[0mindex\u001b[0m\u001b[0;34m]\u001b[0m\u001b[0;34m.\u001b[0m\u001b[0mcontent\u001b[0m\u001b[0;34m)\u001b[0m\u001b[0;34m\u001b[0m\u001b[0;34m\u001b[0m\u001b[0m\n\u001b[1;32m   1070\u001b[0m             \u001b[0;32melse\u001b[0m\u001b[0;34m:\u001b[0m\u001b[0;34m\u001b[0m\u001b[0;34m\u001b[0m\u001b[0m\n\u001b[0;32m-> 1071\u001b[0;31m                 \u001b[0mtokens\u001b[0m\u001b[0;34m.\u001b[0m\u001b[0mappend\u001b[0m\u001b[0;34m(\u001b[0m\u001b[0mself\u001b[0m\u001b[0;34m.\u001b[0m\u001b[0m_convert_id_to_token\u001b[0m\u001b[0;34m(\u001b[0m\u001b[0mindex\u001b[0m\u001b[0;34m)\u001b[0m\u001b[0;34m)\u001b[0m\u001b[0;34m\u001b[0m\u001b[0;34m\u001b[0m\u001b[0m\n\u001b[0m\u001b[1;32m   1072\u001b[0m         \u001b[0;32mreturn\u001b[0m \u001b[0mtokens\u001b[0m\u001b[0;34m\u001b[0m\u001b[0;34m\u001b[0m\u001b[0m\n\u001b[1;32m   1073\u001b[0m \u001b[0;34m\u001b[0m\u001b[0m\n",
            "\u001b[0;32m/usr/local/lib/python3.11/dist-packages/transformers/models/t5/tokenization_t5.py\u001b[0m in \u001b[0;36m_convert_id_to_token\u001b[0;34m(self, index)\u001b[0m\n\u001b[1;32m    404\u001b[0m     \u001b[0;32mdef\u001b[0m \u001b[0m_convert_id_to_token\u001b[0m\u001b[0;34m(\u001b[0m\u001b[0mself\u001b[0m\u001b[0;34m,\u001b[0m \u001b[0mindex\u001b[0m\u001b[0;34m)\u001b[0m\u001b[0;34m:\u001b[0m\u001b[0;34m\u001b[0m\u001b[0;34m\u001b[0m\u001b[0m\n\u001b[1;32m    405\u001b[0m         \u001b[0;34m\"\"\"Converts an index (integer) in a token (str) using the vocab.\"\"\"\u001b[0m\u001b[0;34m\u001b[0m\u001b[0;34m\u001b[0m\u001b[0m\n\u001b[0;32m--> 406\u001b[0;31m         \u001b[0mtoken\u001b[0m \u001b[0;34m=\u001b[0m \u001b[0mself\u001b[0m\u001b[0;34m.\u001b[0m\u001b[0msp_model\u001b[0m\u001b[0;34m.\u001b[0m\u001b[0mIdToPiece\u001b[0m\u001b[0;34m(\u001b[0m\u001b[0mindex\u001b[0m\u001b[0;34m)\u001b[0m\u001b[0;34m\u001b[0m\u001b[0;34m\u001b[0m\u001b[0m\n\u001b[0m\u001b[1;32m    407\u001b[0m         \u001b[0;32mreturn\u001b[0m \u001b[0mtoken\u001b[0m\u001b[0;34m\u001b[0m\u001b[0;34m\u001b[0m\u001b[0m\n\u001b[1;32m    408\u001b[0m \u001b[0;34m\u001b[0m\u001b[0m\n",
            "\u001b[0;32m/usr/local/lib/python3.11/dist-packages/sentencepiece/__init__.py\u001b[0m in \u001b[0;36m_batched_func\u001b[0;34m(self, arg)\u001b[0m\n\u001b[1;32m   1177\u001b[0m       \u001b[0;32mreturn\u001b[0m \u001b[0;34m[\u001b[0m\u001b[0m_func\u001b[0m\u001b[0;34m(\u001b[0m\u001b[0mself\u001b[0m\u001b[0;34m,\u001b[0m \u001b[0mn\u001b[0m\u001b[0;34m)\u001b[0m \u001b[0;32mfor\u001b[0m \u001b[0mn\u001b[0m \u001b[0;32min\u001b[0m \u001b[0marg\u001b[0m\u001b[0;34m]\u001b[0m\u001b[0;34m\u001b[0m\u001b[0;34m\u001b[0m\u001b[0m\n\u001b[1;32m   1178\u001b[0m     \u001b[0;32melse\u001b[0m\u001b[0;34m:\u001b[0m\u001b[0;34m\u001b[0m\u001b[0;34m\u001b[0m\u001b[0m\n\u001b[0;32m-> 1179\u001b[0;31m       \u001b[0;32mreturn\u001b[0m \u001b[0m_func\u001b[0m\u001b[0;34m(\u001b[0m\u001b[0mself\u001b[0m\u001b[0;34m,\u001b[0m \u001b[0marg\u001b[0m\u001b[0;34m)\u001b[0m\u001b[0;34m\u001b[0m\u001b[0;34m\u001b[0m\u001b[0m\n\u001b[0m\u001b[1;32m   1180\u001b[0m \u001b[0;34m\u001b[0m\u001b[0m\n\u001b[1;32m   1181\u001b[0m   \u001b[0msetattr\u001b[0m\u001b[0;34m(\u001b[0m\u001b[0mclassname\u001b[0m\u001b[0;34m,\u001b[0m \u001b[0mname\u001b[0m\u001b[0;34m,\u001b[0m \u001b[0m_batched_func\u001b[0m\u001b[0;34m)\u001b[0m\u001b[0;34m\u001b[0m\u001b[0;34m\u001b[0m\u001b[0m\n",
            "\u001b[0;32m/usr/local/lib/python3.11/dist-packages/sentencepiece/__init__.py\u001b[0m in \u001b[0;36m_func\u001b[0;34m(v, n)\u001b[0m\n\u001b[1;32m   1170\u001b[0m   \u001b[0;32mdef\u001b[0m \u001b[0m_func\u001b[0m\u001b[0;34m(\u001b[0m\u001b[0mv\u001b[0m\u001b[0;34m,\u001b[0m \u001b[0mn\u001b[0m\u001b[0;34m)\u001b[0m\u001b[0;34m:\u001b[0m\u001b[0;34m\u001b[0m\u001b[0;34m\u001b[0m\u001b[0m\n\u001b[1;32m   1171\u001b[0m     \u001b[0;32mif\u001b[0m \u001b[0mtype\u001b[0m\u001b[0;34m(\u001b[0m\u001b[0mn\u001b[0m\u001b[0;34m)\u001b[0m \u001b[0;32mis\u001b[0m \u001b[0mint\u001b[0m \u001b[0;32mand\u001b[0m \u001b[0;34m(\u001b[0m\u001b[0mn\u001b[0m \u001b[0;34m<\u001b[0m \u001b[0;36m0\u001b[0m \u001b[0;32mor\u001b[0m \u001b[0mn\u001b[0m \u001b[0;34m>=\u001b[0m \u001b[0mv\u001b[0m\u001b[0;34m.\u001b[0m\u001b[0mpiece_size\u001b[0m\u001b[0;34m(\u001b[0m\u001b[0;34m)\u001b[0m\u001b[0;34m)\u001b[0m\u001b[0;34m:\u001b[0m\u001b[0;34m\u001b[0m\u001b[0;34m\u001b[0m\u001b[0m\n\u001b[0;32m-> 1172\u001b[0;31m       \u001b[0;32mraise\u001b[0m \u001b[0mIndexError\u001b[0m\u001b[0;34m(\u001b[0m\u001b[0;34m'piece id is out of range.'\u001b[0m\u001b[0;34m)\u001b[0m\u001b[0;34m\u001b[0m\u001b[0;34m\u001b[0m\u001b[0m\n\u001b[0m\u001b[1;32m   1173\u001b[0m     \u001b[0;32mreturn\u001b[0m \u001b[0mfunc\u001b[0m\u001b[0;34m(\u001b[0m\u001b[0mv\u001b[0m\u001b[0;34m,\u001b[0m \u001b[0mn\u001b[0m\u001b[0;34m)\u001b[0m\u001b[0;34m\u001b[0m\u001b[0;34m\u001b[0m\u001b[0m\n\u001b[1;32m   1174\u001b[0m \u001b[0;34m\u001b[0m\u001b[0m\n",
            "\u001b[0;31mIndexError\u001b[0m: piece id is out of range."
          ]
        }
      ],
      "source": [
        "from transformers import Seq2SeqTrainer, EarlyStoppingCallback\n",
        "\n",
        "# EarlyStoppingCallback ile erken durdurma tanımlıyoruz\n",
        "early_stopping = EarlyStoppingCallback(\n",
        "    early_stopping_patience=5,  # Art arda kaç kez validation loss'un düşmemesine izin verilecek\n",
        "    early_stopping_threshold=0.0  # Minimum değişiklik miktarı (opsiyonel)\n",
        ")\n",
        "\n",
        "trainer = Seq2SeqTrainer(\n",
        "    model=model,\n",
        "    args=training_args,\n",
        "    data_collator=data_collator,\n",
        "    compute_metrics=metrics_func,\n",
        "    train_dataset=tokenized_ds[\"train\"],\n",
        "    eval_dataset=tokenized_ds[\"validation\"],\n",
        "    callbacks=[early_stopping]  # Erken durdurma callback'i buraya ekleniyor\n",
        ")\n",
        "\n",
        "trainer.train()\n"
      ]
    },
    {
      "cell_type": "code",
      "source": [
        "# Eğitilen modeli kaydet\n",
        "output_dir = \"./trained_model\"  # Kaydedilecek dizin\n",
        "trainer.save_model(output_dir)  # Modeli ve tokenizer'ı kaydeder\n",
        "\n",
        "# Tokenizer'ı ayrıca kaydetmek isterseniz\n",
        "tokenizer.save_pretrained(output_dir)\n",
        "\n",
        "print(f\"Model ve tokenizer {output_dir} dizinine kaydedildi.\")"
      ],
      "metadata": {
        "id": "1yY9QcafhjpV"
      },
      "execution_count": null,
      "outputs": []
    },
    {
      "cell_type": "code",
      "source": [
        "from transformers import AutoModelForSeq2SeqLM, AutoTokenizer\n",
        "\n",
        "# Eğitilen modeli ve tokenizer'ı yükle\n",
        "model = AutoModelForSeq2SeqLM.from_pretrained(\"./trained_model\")\n",
        "tokenizer = AutoTokenizer.from_pretrained(\"./trained_model\")\n"
      ],
      "metadata": {
        "id": "piGBJOV-ibHw"
      },
      "execution_count": null,
      "outputs": []
    },
    {
      "cell_type": "code",
      "source": [
        "test_text = \"Dünyamızda 1900’lü yıllardan günümüze kadar dil öğretiminde çeşitli metinler kullanılmıştır. Bunlar “ edebi metinler, üretilmiş metinler, özgün ve özel metinler ” başlıkları altında toplanmıştır. Metinlerin seçimi dil öğretim yaklaşım ve yöntemlerine göre değişmektedir. Her yaklaşım kendine özgü metin kullanmıştır. Geleneksel yaklaşımda dil bilgisi kuralları, atasözleri, edebiyat, genel kültür gibi konuların öğretimine ağırlık verildiğinden edebi metinler kullanılmıştır. Davranışçı yaklaşımda dil davranış olarak ele alınmış, tekrar, taklit ve ezberleme yoluyla öğretilmiştir. Bu yaklaşımda edebi metinler yerine üretilmiş metinler kullanılmıştır. Bilişsel yaklaşımda “dil iletişim aracıdır” görüşü yayılmış ve özgün metinler kullanılmaya başlanmıştır. \"\n"
      ],
      "metadata": {
        "id": "VKEEh23hislk"
      },
      "execution_count": null,
      "outputs": []
    },
    {
      "cell_type": "code",
      "source": [
        "'''inputs = tokenizer(\n",
        "    test_text,\n",
        "    return_tensors=\"pt\",  # PyTorch tensörleri olarak döner\n",
        "    max_length=1024,      # Modelin giriş sınırı\n",
        "    truncation=True       # Çok uzun metinleri keser\n",
        ")\n",
        "'''"
      ],
      "metadata": {
        "id": "P0vpkXDdimu6"
      },
      "execution_count": null,
      "outputs": []
    },
    {
      "cell_type": "code",
      "source": [
        "# Özetleme\n",
        "output_ids = model.generate(\n",
        "    inputs[\"input_ids\"],\n",
        "    attention_mask=inputs[\"attention_mask\"],\n",
        "    max_length=128,  # Özet uzunluğu sınırı\n",
        "    num_beams=4,     # Beam search kullanımı\n",
        "    no_repeat_ngram_size=2,  # Tekrar eden n-gramları engeller\n",
        "    length_penalty=0.6       # Kısa özetlere öncelik\n",
        ")\n",
        "\n",
        "# Özet çözümleme\n",
        "summary = tokenizer.decode(output_ids[0], skip_special_tokens=True)\n",
        "print(\"Özet:\", summary)\n"
      ],
      "metadata": {
        "id": "RNB0YFddixHG"
      },
      "execution_count": null,
      "outputs": []
    },
    {
      "cell_type": "code",
      "source": [
        "'''from google.colab import drive\n",
        "drive.mount('/content/drive')'''"
      ],
      "metadata": {
        "id": "aSDoLGHwj3E9"
      },
      "execution_count": null,
      "outputs": []
    }
  ],
  "metadata": {
    "kernelspec": {
      "display_name": "Python 3",
      "name": "python3"
    },
    "language_info": {
      "codemirror_mode": {
        "name": "ipython",
        "version": 3
      },
      "file_extension": ".py",
      "mimetype": "text/x-python",
      "name": "python",
      "nbconvert_exporter": "python",
      "pygments_lexer": "ipython3",
      "version": "3.10.0"
    },
    "colab": {
      "provenance": [],
      "gpuType": "L4"
    },
    "accelerator": "GPU",
    "widgets": {
      "application/vnd.jupyter.widget-state+json": {
        "76b796132cd947bea281d9032308a4e9": {
          "model_module": "@jupyter-widgets/controls",
          "model_name": "HBoxModel",
          "model_module_version": "1.5.0",
          "state": {
            "_dom_classes": [],
            "_model_module": "@jupyter-widgets/controls",
            "_model_module_version": "1.5.0",
            "_model_name": "HBoxModel",
            "_view_count": null,
            "_view_module": "@jupyter-widgets/controls",
            "_view_module_version": "1.5.0",
            "_view_name": "HBoxView",
            "box_style": "",
            "children": [
              "IPY_MODEL_ec420e6f83004fb39067a66a9cb00faa",
              "IPY_MODEL_39a13c3538914a51ad811762b1892579",
              "IPY_MODEL_ff38e2e5202041f0a82facfb2ffe235c"
            ],
            "layout": "IPY_MODEL_f50e613a023b47b98865297fadb1bca2"
          }
        },
        "ec420e6f83004fb39067a66a9cb00faa": {
          "model_module": "@jupyter-widgets/controls",
          "model_name": "HTMLModel",
          "model_module_version": "1.5.0",
          "state": {
            "_dom_classes": [],
            "_model_module": "@jupyter-widgets/controls",
            "_model_module_version": "1.5.0",
            "_model_name": "HTMLModel",
            "_view_count": null,
            "_view_module": "@jupyter-widgets/controls",
            "_view_module_version": "1.5.0",
            "_view_name": "HTMLView",
            "description": "",
            "description_tooltip": null,
            "layout": "IPY_MODEL_2f56261663734e339ab144a5b3608aa5",
            "placeholder": "​",
            "style": "IPY_MODEL_5da609ca6676414aaa22eedb684c3947",
            "value": "pytorch_model.bin: 100%"
          }
        },
        "39a13c3538914a51ad811762b1892579": {
          "model_module": "@jupyter-widgets/controls",
          "model_name": "FloatProgressModel",
          "model_module_version": "1.5.0",
          "state": {
            "_dom_classes": [],
            "_model_module": "@jupyter-widgets/controls",
            "_model_module_version": "1.5.0",
            "_model_name": "FloatProgressModel",
            "_view_count": null,
            "_view_module": "@jupyter-widgets/controls",
            "_view_module_version": "1.5.0",
            "_view_name": "ProgressView",
            "bar_style": "success",
            "description": "",
            "description_tooltip": null,
            "layout": "IPY_MODEL_cada2be81de04887a13eaff0de0645b0",
            "max": 1200794589,
            "min": 0,
            "orientation": "horizontal",
            "style": "IPY_MODEL_19a2522ac52944059148d2767c73e04a",
            "value": 1200794589
          }
        },
        "ff38e2e5202041f0a82facfb2ffe235c": {
          "model_module": "@jupyter-widgets/controls",
          "model_name": "HTMLModel",
          "model_module_version": "1.5.0",
          "state": {
            "_dom_classes": [],
            "_model_module": "@jupyter-widgets/controls",
            "_model_module_version": "1.5.0",
            "_model_name": "HTMLModel",
            "_view_count": null,
            "_view_module": "@jupyter-widgets/controls",
            "_view_module_version": "1.5.0",
            "_view_name": "HTMLView",
            "description": "",
            "description_tooltip": null,
            "layout": "IPY_MODEL_4baf215e30ef48c9b262c8f8287508be",
            "placeholder": "​",
            "style": "IPY_MODEL_087fe867ecbd40e08b48ceeda5700aea",
            "value": " 1.20G/1.20G [00:04&lt;00:00, 325MB/s]"
          }
        },
        "f50e613a023b47b98865297fadb1bca2": {
          "model_module": "@jupyter-widgets/base",
          "model_name": "LayoutModel",
          "model_module_version": "1.2.0",
          "state": {
            "_model_module": "@jupyter-widgets/base",
            "_model_module_version": "1.2.0",
            "_model_name": "LayoutModel",
            "_view_count": null,
            "_view_module": "@jupyter-widgets/base",
            "_view_module_version": "1.2.0",
            "_view_name": "LayoutView",
            "align_content": null,
            "align_items": null,
            "align_self": null,
            "border": null,
            "bottom": null,
            "display": null,
            "flex": null,
            "flex_flow": null,
            "grid_area": null,
            "grid_auto_columns": null,
            "grid_auto_flow": null,
            "grid_auto_rows": null,
            "grid_column": null,
            "grid_gap": null,
            "grid_row": null,
            "grid_template_areas": null,
            "grid_template_columns": null,
            "grid_template_rows": null,
            "height": null,
            "justify_content": null,
            "justify_items": null,
            "left": null,
            "margin": null,
            "max_height": null,
            "max_width": null,
            "min_height": null,
            "min_width": null,
            "object_fit": null,
            "object_position": null,
            "order": null,
            "overflow": null,
            "overflow_x": null,
            "overflow_y": null,
            "padding": null,
            "right": null,
            "top": null,
            "visibility": null,
            "width": null
          }
        },
        "2f56261663734e339ab144a5b3608aa5": {
          "model_module": "@jupyter-widgets/base",
          "model_name": "LayoutModel",
          "model_module_version": "1.2.0",
          "state": {
            "_model_module": "@jupyter-widgets/base",
            "_model_module_version": "1.2.0",
            "_model_name": "LayoutModel",
            "_view_count": null,
            "_view_module": "@jupyter-widgets/base",
            "_view_module_version": "1.2.0",
            "_view_name": "LayoutView",
            "align_content": null,
            "align_items": null,
            "align_self": null,
            "border": null,
            "bottom": null,
            "display": null,
            "flex": null,
            "flex_flow": null,
            "grid_area": null,
            "grid_auto_columns": null,
            "grid_auto_flow": null,
            "grid_auto_rows": null,
            "grid_column": null,
            "grid_gap": null,
            "grid_row": null,
            "grid_template_areas": null,
            "grid_template_columns": null,
            "grid_template_rows": null,
            "height": null,
            "justify_content": null,
            "justify_items": null,
            "left": null,
            "margin": null,
            "max_height": null,
            "max_width": null,
            "min_height": null,
            "min_width": null,
            "object_fit": null,
            "object_position": null,
            "order": null,
            "overflow": null,
            "overflow_x": null,
            "overflow_y": null,
            "padding": null,
            "right": null,
            "top": null,
            "visibility": null,
            "width": null
          }
        },
        "5da609ca6676414aaa22eedb684c3947": {
          "model_module": "@jupyter-widgets/controls",
          "model_name": "DescriptionStyleModel",
          "model_module_version": "1.5.0",
          "state": {
            "_model_module": "@jupyter-widgets/controls",
            "_model_module_version": "1.5.0",
            "_model_name": "DescriptionStyleModel",
            "_view_count": null,
            "_view_module": "@jupyter-widgets/base",
            "_view_module_version": "1.2.0",
            "_view_name": "StyleView",
            "description_width": ""
          }
        },
        "cada2be81de04887a13eaff0de0645b0": {
          "model_module": "@jupyter-widgets/base",
          "model_name": "LayoutModel",
          "model_module_version": "1.2.0",
          "state": {
            "_model_module": "@jupyter-widgets/base",
            "_model_module_version": "1.2.0",
            "_model_name": "LayoutModel",
            "_view_count": null,
            "_view_module": "@jupyter-widgets/base",
            "_view_module_version": "1.2.0",
            "_view_name": "LayoutView",
            "align_content": null,
            "align_items": null,
            "align_self": null,
            "border": null,
            "bottom": null,
            "display": null,
            "flex": null,
            "flex_flow": null,
            "grid_area": null,
            "grid_auto_columns": null,
            "grid_auto_flow": null,
            "grid_auto_rows": null,
            "grid_column": null,
            "grid_gap": null,
            "grid_row": null,
            "grid_template_areas": null,
            "grid_template_columns": null,
            "grid_template_rows": null,
            "height": null,
            "justify_content": null,
            "justify_items": null,
            "left": null,
            "margin": null,
            "max_height": null,
            "max_width": null,
            "min_height": null,
            "min_width": null,
            "object_fit": null,
            "object_position": null,
            "order": null,
            "overflow": null,
            "overflow_x": null,
            "overflow_y": null,
            "padding": null,
            "right": null,
            "top": null,
            "visibility": null,
            "width": null
          }
        },
        "19a2522ac52944059148d2767c73e04a": {
          "model_module": "@jupyter-widgets/controls",
          "model_name": "ProgressStyleModel",
          "model_module_version": "1.5.0",
          "state": {
            "_model_module": "@jupyter-widgets/controls",
            "_model_module_version": "1.5.0",
            "_model_name": "ProgressStyleModel",
            "_view_count": null,
            "_view_module": "@jupyter-widgets/base",
            "_view_module_version": "1.2.0",
            "_view_name": "StyleView",
            "bar_color": null,
            "description_width": ""
          }
        },
        "4baf215e30ef48c9b262c8f8287508be": {
          "model_module": "@jupyter-widgets/base",
          "model_name": "LayoutModel",
          "model_module_version": "1.2.0",
          "state": {
            "_model_module": "@jupyter-widgets/base",
            "_model_module_version": "1.2.0",
            "_model_name": "LayoutModel",
            "_view_count": null,
            "_view_module": "@jupyter-widgets/base",
            "_view_module_version": "1.2.0",
            "_view_name": "LayoutView",
            "align_content": null,
            "align_items": null,
            "align_self": null,
            "border": null,
            "bottom": null,
            "display": null,
            "flex": null,
            "flex_flow": null,
            "grid_area": null,
            "grid_auto_columns": null,
            "grid_auto_flow": null,
            "grid_auto_rows": null,
            "grid_column": null,
            "grid_gap": null,
            "grid_row": null,
            "grid_template_areas": null,
            "grid_template_columns": null,
            "grid_template_rows": null,
            "height": null,
            "justify_content": null,
            "justify_items": null,
            "left": null,
            "margin": null,
            "max_height": null,
            "max_width": null,
            "min_height": null,
            "min_width": null,
            "object_fit": null,
            "object_position": null,
            "order": null,
            "overflow": null,
            "overflow_x": null,
            "overflow_y": null,
            "padding": null,
            "right": null,
            "top": null,
            "visibility": null,
            "width": null
          }
        },
        "087fe867ecbd40e08b48ceeda5700aea": {
          "model_module": "@jupyter-widgets/controls",
          "model_name": "DescriptionStyleModel",
          "model_module_version": "1.5.0",
          "state": {
            "_model_module": "@jupyter-widgets/controls",
            "_model_module_version": "1.5.0",
            "_model_name": "DescriptionStyleModel",
            "_view_count": null,
            "_view_module": "@jupyter-widgets/base",
            "_view_module_version": "1.2.0",
            "_view_name": "StyleView",
            "description_width": ""
          }
        },
        "45ea66bbb7074bce88d85a28cdeecae0": {
          "model_module": "@jupyter-widgets/controls",
          "model_name": "HBoxModel",
          "model_module_version": "1.5.0",
          "state": {
            "_dom_classes": [],
            "_model_module": "@jupyter-widgets/controls",
            "_model_module_version": "1.5.0",
            "_model_name": "HBoxModel",
            "_view_count": null,
            "_view_module": "@jupyter-widgets/controls",
            "_view_module_version": "1.5.0",
            "_view_name": "HBoxView",
            "box_style": "",
            "children": [
              "IPY_MODEL_b8f5141a5e8c4c32be65425225fb9d36",
              "IPY_MODEL_ab125a6173fb4741a7d2751af6a5acee",
              "IPY_MODEL_7f400c41addc433fbe056e3e273998b0"
            ],
            "layout": "IPY_MODEL_d6637d24e2bc4fe0a1cd513b0048b73e"
          }
        },
        "b8f5141a5e8c4c32be65425225fb9d36": {
          "model_module": "@jupyter-widgets/controls",
          "model_name": "HTMLModel",
          "model_module_version": "1.5.0",
          "state": {
            "_dom_classes": [],
            "_model_module": "@jupyter-widgets/controls",
            "_model_module_version": "1.5.0",
            "_model_name": "HTMLModel",
            "_view_count": null,
            "_view_module": "@jupyter-widgets/controls",
            "_view_module_version": "1.5.0",
            "_view_name": "HTMLView",
            "description": "",
            "description_tooltip": null,
            "layout": "IPY_MODEL_b6967ce52f1b44e3ab1954303e53dc44",
            "placeholder": "​",
            "style": "IPY_MODEL_5e3972eff03f4974ad17b18d95407b21",
            "value": "generation_config.json: 100%"
          }
        },
        "ab125a6173fb4741a7d2751af6a5acee": {
          "model_module": "@jupyter-widgets/controls",
          "model_name": "FloatProgressModel",
          "model_module_version": "1.5.0",
          "state": {
            "_dom_classes": [],
            "_model_module": "@jupyter-widgets/controls",
            "_model_module_version": "1.5.0",
            "_model_name": "FloatProgressModel",
            "_view_count": null,
            "_view_module": "@jupyter-widgets/controls",
            "_view_module_version": "1.5.0",
            "_view_name": "ProgressView",
            "bar_style": "success",
            "description": "",
            "description_tooltip": null,
            "layout": "IPY_MODEL_563ae3b1d58b4ffb88b9969cc170910a",
            "max": 147,
            "min": 0,
            "orientation": "horizontal",
            "style": "IPY_MODEL_7c2a2bcd6c4242688063e0d2d9d22451",
            "value": 147
          }
        },
        "7f400c41addc433fbe056e3e273998b0": {
          "model_module": "@jupyter-widgets/controls",
          "model_name": "HTMLModel",
          "model_module_version": "1.5.0",
          "state": {
            "_dom_classes": [],
            "_model_module": "@jupyter-widgets/controls",
            "_model_module_version": "1.5.0",
            "_model_name": "HTMLModel",
            "_view_count": null,
            "_view_module": "@jupyter-widgets/controls",
            "_view_module_version": "1.5.0",
            "_view_name": "HTMLView",
            "description": "",
            "description_tooltip": null,
            "layout": "IPY_MODEL_0e932316c1fd439faa36674cdb91af00",
            "placeholder": "​",
            "style": "IPY_MODEL_128868e8457d454fa608dba35917997a",
            "value": " 147/147 [00:00&lt;00:00, 17.7kB/s]"
          }
        },
        "d6637d24e2bc4fe0a1cd513b0048b73e": {
          "model_module": "@jupyter-widgets/base",
          "model_name": "LayoutModel",
          "model_module_version": "1.2.0",
          "state": {
            "_model_module": "@jupyter-widgets/base",
            "_model_module_version": "1.2.0",
            "_model_name": "LayoutModel",
            "_view_count": null,
            "_view_module": "@jupyter-widgets/base",
            "_view_module_version": "1.2.0",
            "_view_name": "LayoutView",
            "align_content": null,
            "align_items": null,
            "align_self": null,
            "border": null,
            "bottom": null,
            "display": null,
            "flex": null,
            "flex_flow": null,
            "grid_area": null,
            "grid_auto_columns": null,
            "grid_auto_flow": null,
            "grid_auto_rows": null,
            "grid_column": null,
            "grid_gap": null,
            "grid_row": null,
            "grid_template_areas": null,
            "grid_template_columns": null,
            "grid_template_rows": null,
            "height": null,
            "justify_content": null,
            "justify_items": null,
            "left": null,
            "margin": null,
            "max_height": null,
            "max_width": null,
            "min_height": null,
            "min_width": null,
            "object_fit": null,
            "object_position": null,
            "order": null,
            "overflow": null,
            "overflow_x": null,
            "overflow_y": null,
            "padding": null,
            "right": null,
            "top": null,
            "visibility": null,
            "width": null
          }
        },
        "b6967ce52f1b44e3ab1954303e53dc44": {
          "model_module": "@jupyter-widgets/base",
          "model_name": "LayoutModel",
          "model_module_version": "1.2.0",
          "state": {
            "_model_module": "@jupyter-widgets/base",
            "_model_module_version": "1.2.0",
            "_model_name": "LayoutModel",
            "_view_count": null,
            "_view_module": "@jupyter-widgets/base",
            "_view_module_version": "1.2.0",
            "_view_name": "LayoutView",
            "align_content": null,
            "align_items": null,
            "align_self": null,
            "border": null,
            "bottom": null,
            "display": null,
            "flex": null,
            "flex_flow": null,
            "grid_area": null,
            "grid_auto_columns": null,
            "grid_auto_flow": null,
            "grid_auto_rows": null,
            "grid_column": null,
            "grid_gap": null,
            "grid_row": null,
            "grid_template_areas": null,
            "grid_template_columns": null,
            "grid_template_rows": null,
            "height": null,
            "justify_content": null,
            "justify_items": null,
            "left": null,
            "margin": null,
            "max_height": null,
            "max_width": null,
            "min_height": null,
            "min_width": null,
            "object_fit": null,
            "object_position": null,
            "order": null,
            "overflow": null,
            "overflow_x": null,
            "overflow_y": null,
            "padding": null,
            "right": null,
            "top": null,
            "visibility": null,
            "width": null
          }
        },
        "5e3972eff03f4974ad17b18d95407b21": {
          "model_module": "@jupyter-widgets/controls",
          "model_name": "DescriptionStyleModel",
          "model_module_version": "1.5.0",
          "state": {
            "_model_module": "@jupyter-widgets/controls",
            "_model_module_version": "1.5.0",
            "_model_name": "DescriptionStyleModel",
            "_view_count": null,
            "_view_module": "@jupyter-widgets/base",
            "_view_module_version": "1.2.0",
            "_view_name": "StyleView",
            "description_width": ""
          }
        },
        "563ae3b1d58b4ffb88b9969cc170910a": {
          "model_module": "@jupyter-widgets/base",
          "model_name": "LayoutModel",
          "model_module_version": "1.2.0",
          "state": {
            "_model_module": "@jupyter-widgets/base",
            "_model_module_version": "1.2.0",
            "_model_name": "LayoutModel",
            "_view_count": null,
            "_view_module": "@jupyter-widgets/base",
            "_view_module_version": "1.2.0",
            "_view_name": "LayoutView",
            "align_content": null,
            "align_items": null,
            "align_self": null,
            "border": null,
            "bottom": null,
            "display": null,
            "flex": null,
            "flex_flow": null,
            "grid_area": null,
            "grid_auto_columns": null,
            "grid_auto_flow": null,
            "grid_auto_rows": null,
            "grid_column": null,
            "grid_gap": null,
            "grid_row": null,
            "grid_template_areas": null,
            "grid_template_columns": null,
            "grid_template_rows": null,
            "height": null,
            "justify_content": null,
            "justify_items": null,
            "left": null,
            "margin": null,
            "max_height": null,
            "max_width": null,
            "min_height": null,
            "min_width": null,
            "object_fit": null,
            "object_position": null,
            "order": null,
            "overflow": null,
            "overflow_x": null,
            "overflow_y": null,
            "padding": null,
            "right": null,
            "top": null,
            "visibility": null,
            "width": null
          }
        },
        "7c2a2bcd6c4242688063e0d2d9d22451": {
          "model_module": "@jupyter-widgets/controls",
          "model_name": "ProgressStyleModel",
          "model_module_version": "1.5.0",
          "state": {
            "_model_module": "@jupyter-widgets/controls",
            "_model_module_version": "1.5.0",
            "_model_name": "ProgressStyleModel",
            "_view_count": null,
            "_view_module": "@jupyter-widgets/base",
            "_view_module_version": "1.2.0",
            "_view_name": "StyleView",
            "bar_color": null,
            "description_width": ""
          }
        },
        "0e932316c1fd439faa36674cdb91af00": {
          "model_module": "@jupyter-widgets/base",
          "model_name": "LayoutModel",
          "model_module_version": "1.2.0",
          "state": {
            "_model_module": "@jupyter-widgets/base",
            "_model_module_version": "1.2.0",
            "_model_name": "LayoutModel",
            "_view_count": null,
            "_view_module": "@jupyter-widgets/base",
            "_view_module_version": "1.2.0",
            "_view_name": "LayoutView",
            "align_content": null,
            "align_items": null,
            "align_self": null,
            "border": null,
            "bottom": null,
            "display": null,
            "flex": null,
            "flex_flow": null,
            "grid_area": null,
            "grid_auto_columns": null,
            "grid_auto_flow": null,
            "grid_auto_rows": null,
            "grid_column": null,
            "grid_gap": null,
            "grid_row": null,
            "grid_template_areas": null,
            "grid_template_columns": null,
            "grid_template_rows": null,
            "height": null,
            "justify_content": null,
            "justify_items": null,
            "left": null,
            "margin": null,
            "max_height": null,
            "max_width": null,
            "min_height": null,
            "min_width": null,
            "object_fit": null,
            "object_position": null,
            "order": null,
            "overflow": null,
            "overflow_x": null,
            "overflow_y": null,
            "padding": null,
            "right": null,
            "top": null,
            "visibility": null,
            "width": null
          }
        },
        "128868e8457d454fa608dba35917997a": {
          "model_module": "@jupyter-widgets/controls",
          "model_name": "DescriptionStyleModel",
          "model_module_version": "1.5.0",
          "state": {
            "_model_module": "@jupyter-widgets/controls",
            "_model_module_version": "1.5.0",
            "_model_name": "DescriptionStyleModel",
            "_view_count": null,
            "_view_module": "@jupyter-widgets/base",
            "_view_module_version": "1.2.0",
            "_view_name": "StyleView",
            "description_width": ""
          }
        },
        "c541bac8d41a4db0986a4b10ee3897f8": {
          "model_module": "@jupyter-widgets/controls",
          "model_name": "HBoxModel",
          "model_module_version": "1.5.0",
          "state": {
            "_dom_classes": [],
            "_model_module": "@jupyter-widgets/controls",
            "_model_module_version": "1.5.0",
            "_model_name": "HBoxModel",
            "_view_count": null,
            "_view_module": "@jupyter-widgets/controls",
            "_view_module_version": "1.5.0",
            "_view_name": "HBoxView",
            "box_style": "",
            "children": [
              "IPY_MODEL_0fcb20dcf8b94513a213d1c9c9a6aeba",
              "IPY_MODEL_adc79c4cd7214da79c2224652d5789ef",
              "IPY_MODEL_d16e0c7fb2274abbb9b84136297ab060"
            ],
            "layout": "IPY_MODEL_c402ca169724471f936b60bcd47839e6"
          }
        },
        "0fcb20dcf8b94513a213d1c9c9a6aeba": {
          "model_module": "@jupyter-widgets/controls",
          "model_name": "HTMLModel",
          "model_module_version": "1.5.0",
          "state": {
            "_dom_classes": [],
            "_model_module": "@jupyter-widgets/controls",
            "_model_module_version": "1.5.0",
            "_model_name": "HTMLModel",
            "_view_count": null,
            "_view_module": "@jupyter-widgets/controls",
            "_view_module_version": "1.5.0",
            "_view_name": "HTMLView",
            "description": "",
            "description_tooltip": null,
            "layout": "IPY_MODEL_63dceb9082f647209667a24c6389f0f0",
            "placeholder": "​",
            "style": "IPY_MODEL_a8eb9a8c45334e418dc3ad3156948c29",
            "value": "model.safetensors: 100%"
          }
        },
        "adc79c4cd7214da79c2224652d5789ef": {
          "model_module": "@jupyter-widgets/controls",
          "model_name": "FloatProgressModel",
          "model_module_version": "1.5.0",
          "state": {
            "_dom_classes": [],
            "_model_module": "@jupyter-widgets/controls",
            "_model_module_version": "1.5.0",
            "_model_name": "FloatProgressModel",
            "_view_count": null,
            "_view_module": "@jupyter-widgets/controls",
            "_view_module_version": "1.5.0",
            "_view_name": "ProgressView",
            "bar_style": "success",
            "description": "",
            "description_tooltip": null,
            "layout": "IPY_MODEL_486ca85bf7bf4beabc12a7c07bec7001",
            "max": 1200729512,
            "min": 0,
            "orientation": "horizontal",
            "style": "IPY_MODEL_f3990ca253ee4a44b0c8b8047a731554",
            "value": 1200729512
          }
        },
        "d16e0c7fb2274abbb9b84136297ab060": {
          "model_module": "@jupyter-widgets/controls",
          "model_name": "HTMLModel",
          "model_module_version": "1.5.0",
          "state": {
            "_dom_classes": [],
            "_model_module": "@jupyter-widgets/controls",
            "_model_module_version": "1.5.0",
            "_model_name": "HTMLModel",
            "_view_count": null,
            "_view_module": "@jupyter-widgets/controls",
            "_view_module_version": "1.5.0",
            "_view_name": "HTMLView",
            "description": "",
            "description_tooltip": null,
            "layout": "IPY_MODEL_54250dda3cde462ea5807aaf0034611d",
            "placeholder": "​",
            "style": "IPY_MODEL_bf2b529e50974718b670deffb03240c3",
            "value": " 1.20G/1.20G [00:07&lt;00:00, 173MB/s]"
          }
        },
        "c402ca169724471f936b60bcd47839e6": {
          "model_module": "@jupyter-widgets/base",
          "model_name": "LayoutModel",
          "model_module_version": "1.2.0",
          "state": {
            "_model_module": "@jupyter-widgets/base",
            "_model_module_version": "1.2.0",
            "_model_name": "LayoutModel",
            "_view_count": null,
            "_view_module": "@jupyter-widgets/base",
            "_view_module_version": "1.2.0",
            "_view_name": "LayoutView",
            "align_content": null,
            "align_items": null,
            "align_self": null,
            "border": null,
            "bottom": null,
            "display": null,
            "flex": null,
            "flex_flow": null,
            "grid_area": null,
            "grid_auto_columns": null,
            "grid_auto_flow": null,
            "grid_auto_rows": null,
            "grid_column": null,
            "grid_gap": null,
            "grid_row": null,
            "grid_template_areas": null,
            "grid_template_columns": null,
            "grid_template_rows": null,
            "height": null,
            "justify_content": null,
            "justify_items": null,
            "left": null,
            "margin": null,
            "max_height": null,
            "max_width": null,
            "min_height": null,
            "min_width": null,
            "object_fit": null,
            "object_position": null,
            "order": null,
            "overflow": null,
            "overflow_x": null,
            "overflow_y": null,
            "padding": null,
            "right": null,
            "top": null,
            "visibility": null,
            "width": null
          }
        },
        "63dceb9082f647209667a24c6389f0f0": {
          "model_module": "@jupyter-widgets/base",
          "model_name": "LayoutModel",
          "model_module_version": "1.2.0",
          "state": {
            "_model_module": "@jupyter-widgets/base",
            "_model_module_version": "1.2.0",
            "_model_name": "LayoutModel",
            "_view_count": null,
            "_view_module": "@jupyter-widgets/base",
            "_view_module_version": "1.2.0",
            "_view_name": "LayoutView",
            "align_content": null,
            "align_items": null,
            "align_self": null,
            "border": null,
            "bottom": null,
            "display": null,
            "flex": null,
            "flex_flow": null,
            "grid_area": null,
            "grid_auto_columns": null,
            "grid_auto_flow": null,
            "grid_auto_rows": null,
            "grid_column": null,
            "grid_gap": null,
            "grid_row": null,
            "grid_template_areas": null,
            "grid_template_columns": null,
            "grid_template_rows": null,
            "height": null,
            "justify_content": null,
            "justify_items": null,
            "left": null,
            "margin": null,
            "max_height": null,
            "max_width": null,
            "min_height": null,
            "min_width": null,
            "object_fit": null,
            "object_position": null,
            "order": null,
            "overflow": null,
            "overflow_x": null,
            "overflow_y": null,
            "padding": null,
            "right": null,
            "top": null,
            "visibility": null,
            "width": null
          }
        },
        "a8eb9a8c45334e418dc3ad3156948c29": {
          "model_module": "@jupyter-widgets/controls",
          "model_name": "DescriptionStyleModel",
          "model_module_version": "1.5.0",
          "state": {
            "_model_module": "@jupyter-widgets/controls",
            "_model_module_version": "1.5.0",
            "_model_name": "DescriptionStyleModel",
            "_view_count": null,
            "_view_module": "@jupyter-widgets/base",
            "_view_module_version": "1.2.0",
            "_view_name": "StyleView",
            "description_width": ""
          }
        },
        "486ca85bf7bf4beabc12a7c07bec7001": {
          "model_module": "@jupyter-widgets/base",
          "model_name": "LayoutModel",
          "model_module_version": "1.2.0",
          "state": {
            "_model_module": "@jupyter-widgets/base",
            "_model_module_version": "1.2.0",
            "_model_name": "LayoutModel",
            "_view_count": null,
            "_view_module": "@jupyter-widgets/base",
            "_view_module_version": "1.2.0",
            "_view_name": "LayoutView",
            "align_content": null,
            "align_items": null,
            "align_self": null,
            "border": null,
            "bottom": null,
            "display": null,
            "flex": null,
            "flex_flow": null,
            "grid_area": null,
            "grid_auto_columns": null,
            "grid_auto_flow": null,
            "grid_auto_rows": null,
            "grid_column": null,
            "grid_gap": null,
            "grid_row": null,
            "grid_template_areas": null,
            "grid_template_columns": null,
            "grid_template_rows": null,
            "height": null,
            "justify_content": null,
            "justify_items": null,
            "left": null,
            "margin": null,
            "max_height": null,
            "max_width": null,
            "min_height": null,
            "min_width": null,
            "object_fit": null,
            "object_position": null,
            "order": null,
            "overflow": null,
            "overflow_x": null,
            "overflow_y": null,
            "padding": null,
            "right": null,
            "top": null,
            "visibility": null,
            "width": null
          }
        },
        "f3990ca253ee4a44b0c8b8047a731554": {
          "model_module": "@jupyter-widgets/controls",
          "model_name": "ProgressStyleModel",
          "model_module_version": "1.5.0",
          "state": {
            "_model_module": "@jupyter-widgets/controls",
            "_model_module_version": "1.5.0",
            "_model_name": "ProgressStyleModel",
            "_view_count": null,
            "_view_module": "@jupyter-widgets/base",
            "_view_module_version": "1.2.0",
            "_view_name": "StyleView",
            "bar_color": null,
            "description_width": ""
          }
        },
        "54250dda3cde462ea5807aaf0034611d": {
          "model_module": "@jupyter-widgets/base",
          "model_name": "LayoutModel",
          "model_module_version": "1.2.0",
          "state": {
            "_model_module": "@jupyter-widgets/base",
            "_model_module_version": "1.2.0",
            "_model_name": "LayoutModel",
            "_view_count": null,
            "_view_module": "@jupyter-widgets/base",
            "_view_module_version": "1.2.0",
            "_view_name": "LayoutView",
            "align_content": null,
            "align_items": null,
            "align_self": null,
            "border": null,
            "bottom": null,
            "display": null,
            "flex": null,
            "flex_flow": null,
            "grid_area": null,
            "grid_auto_columns": null,
            "grid_auto_flow": null,
            "grid_auto_rows": null,
            "grid_column": null,
            "grid_gap": null,
            "grid_row": null,
            "grid_template_areas": null,
            "grid_template_columns": null,
            "grid_template_rows": null,
            "height": null,
            "justify_content": null,
            "justify_items": null,
            "left": null,
            "margin": null,
            "max_height": null,
            "max_width": null,
            "min_height": null,
            "min_width": null,
            "object_fit": null,
            "object_position": null,
            "order": null,
            "overflow": null,
            "overflow_x": null,
            "overflow_y": null,
            "padding": null,
            "right": null,
            "top": null,
            "visibility": null,
            "width": null
          }
        },
        "bf2b529e50974718b670deffb03240c3": {
          "model_module": "@jupyter-widgets/controls",
          "model_name": "DescriptionStyleModel",
          "model_module_version": "1.5.0",
          "state": {
            "_model_module": "@jupyter-widgets/controls",
            "_model_module_version": "1.5.0",
            "_model_name": "DescriptionStyleModel",
            "_view_count": null,
            "_view_module": "@jupyter-widgets/base",
            "_view_module_version": "1.2.0",
            "_view_name": "StyleView",
            "description_width": ""
          }
        },
        "f319e428abed4744ba39d657ccaa5a70": {
          "model_module": "@jupyter-widgets/controls",
          "model_name": "HBoxModel",
          "model_module_version": "1.5.0",
          "state": {
            "_dom_classes": [],
            "_model_module": "@jupyter-widgets/controls",
            "_model_module_version": "1.5.0",
            "_model_name": "HBoxModel",
            "_view_count": null,
            "_view_module": "@jupyter-widgets/controls",
            "_view_module_version": "1.5.0",
            "_view_name": "HBoxView",
            "box_style": "",
            "children": [
              "IPY_MODEL_728d8469948e4eeeafb4b5119859122a",
              "IPY_MODEL_10b6772fc47f4c9f9de58fd16ba0c377",
              "IPY_MODEL_6973d99af5c14fc18a4951e39692085c"
            ],
            "layout": "IPY_MODEL_48559ac572064c2bb31ecc9c1bc27829"
          }
        },
        "728d8469948e4eeeafb4b5119859122a": {
          "model_module": "@jupyter-widgets/controls",
          "model_name": "HTMLModel",
          "model_module_version": "1.5.0",
          "state": {
            "_dom_classes": [],
            "_model_module": "@jupyter-widgets/controls",
            "_model_module_version": "1.5.0",
            "_model_name": "HTMLModel",
            "_view_count": null,
            "_view_module": "@jupyter-widgets/controls",
            "_view_module_version": "1.5.0",
            "_view_name": "HTMLView",
            "description": "",
            "description_tooltip": null,
            "layout": "IPY_MODEL_d3da16fa152d407993a8b05518a2a77e",
            "placeholder": "​",
            "style": "IPY_MODEL_6652e7a153b24c068dc517dcb1c15727",
            "value": "Downloading builder script: 100%"
          }
        },
        "10b6772fc47f4c9f9de58fd16ba0c377": {
          "model_module": "@jupyter-widgets/controls",
          "model_name": "FloatProgressModel",
          "model_module_version": "1.5.0",
          "state": {
            "_dom_classes": [],
            "_model_module": "@jupyter-widgets/controls",
            "_model_module_version": "1.5.0",
            "_model_name": "FloatProgressModel",
            "_view_count": null,
            "_view_module": "@jupyter-widgets/controls",
            "_view_module_version": "1.5.0",
            "_view_name": "ProgressView",
            "bar_style": "success",
            "description": "",
            "description_tooltip": null,
            "layout": "IPY_MODEL_ad5bb656c508494ab5f528a8d7bca869",
            "max": 6270,
            "min": 0,
            "orientation": "horizontal",
            "style": "IPY_MODEL_3fa5e45154a144dc8e7ceca1e3b63ba9",
            "value": 6270
          }
        },
        "6973d99af5c14fc18a4951e39692085c": {
          "model_module": "@jupyter-widgets/controls",
          "model_name": "HTMLModel",
          "model_module_version": "1.5.0",
          "state": {
            "_dom_classes": [],
            "_model_module": "@jupyter-widgets/controls",
            "_model_module_version": "1.5.0",
            "_model_name": "HTMLModel",
            "_view_count": null,
            "_view_module": "@jupyter-widgets/controls",
            "_view_module_version": "1.5.0",
            "_view_name": "HTMLView",
            "description": "",
            "description_tooltip": null,
            "layout": "IPY_MODEL_11d8336dd84d4d9f88eb6344029431d1",
            "placeholder": "​",
            "style": "IPY_MODEL_6743eebf70c64a3dbf786408f04525ba",
            "value": " 6.27k/6.27k [00:00&lt;00:00, 694kB/s]"
          }
        },
        "48559ac572064c2bb31ecc9c1bc27829": {
          "model_module": "@jupyter-widgets/base",
          "model_name": "LayoutModel",
          "model_module_version": "1.2.0",
          "state": {
            "_model_module": "@jupyter-widgets/base",
            "_model_module_version": "1.2.0",
            "_model_name": "LayoutModel",
            "_view_count": null,
            "_view_module": "@jupyter-widgets/base",
            "_view_module_version": "1.2.0",
            "_view_name": "LayoutView",
            "align_content": null,
            "align_items": null,
            "align_self": null,
            "border": null,
            "bottom": null,
            "display": null,
            "flex": null,
            "flex_flow": null,
            "grid_area": null,
            "grid_auto_columns": null,
            "grid_auto_flow": null,
            "grid_auto_rows": null,
            "grid_column": null,
            "grid_gap": null,
            "grid_row": null,
            "grid_template_areas": null,
            "grid_template_columns": null,
            "grid_template_rows": null,
            "height": null,
            "justify_content": null,
            "justify_items": null,
            "left": null,
            "margin": null,
            "max_height": null,
            "max_width": null,
            "min_height": null,
            "min_width": null,
            "object_fit": null,
            "object_position": null,
            "order": null,
            "overflow": null,
            "overflow_x": null,
            "overflow_y": null,
            "padding": null,
            "right": null,
            "top": null,
            "visibility": null,
            "width": null
          }
        },
        "d3da16fa152d407993a8b05518a2a77e": {
          "model_module": "@jupyter-widgets/base",
          "model_name": "LayoutModel",
          "model_module_version": "1.2.0",
          "state": {
            "_model_module": "@jupyter-widgets/base",
            "_model_module_version": "1.2.0",
            "_model_name": "LayoutModel",
            "_view_count": null,
            "_view_module": "@jupyter-widgets/base",
            "_view_module_version": "1.2.0",
            "_view_name": "LayoutView",
            "align_content": null,
            "align_items": null,
            "align_self": null,
            "border": null,
            "bottom": null,
            "display": null,
            "flex": null,
            "flex_flow": null,
            "grid_area": null,
            "grid_auto_columns": null,
            "grid_auto_flow": null,
            "grid_auto_rows": null,
            "grid_column": null,
            "grid_gap": null,
            "grid_row": null,
            "grid_template_areas": null,
            "grid_template_columns": null,
            "grid_template_rows": null,
            "height": null,
            "justify_content": null,
            "justify_items": null,
            "left": null,
            "margin": null,
            "max_height": null,
            "max_width": null,
            "min_height": null,
            "min_width": null,
            "object_fit": null,
            "object_position": null,
            "order": null,
            "overflow": null,
            "overflow_x": null,
            "overflow_y": null,
            "padding": null,
            "right": null,
            "top": null,
            "visibility": null,
            "width": null
          }
        },
        "6652e7a153b24c068dc517dcb1c15727": {
          "model_module": "@jupyter-widgets/controls",
          "model_name": "DescriptionStyleModel",
          "model_module_version": "1.5.0",
          "state": {
            "_model_module": "@jupyter-widgets/controls",
            "_model_module_version": "1.5.0",
            "_model_name": "DescriptionStyleModel",
            "_view_count": null,
            "_view_module": "@jupyter-widgets/base",
            "_view_module_version": "1.2.0",
            "_view_name": "StyleView",
            "description_width": ""
          }
        },
        "ad5bb656c508494ab5f528a8d7bca869": {
          "model_module": "@jupyter-widgets/base",
          "model_name": "LayoutModel",
          "model_module_version": "1.2.0",
          "state": {
            "_model_module": "@jupyter-widgets/base",
            "_model_module_version": "1.2.0",
            "_model_name": "LayoutModel",
            "_view_count": null,
            "_view_module": "@jupyter-widgets/base",
            "_view_module_version": "1.2.0",
            "_view_name": "LayoutView",
            "align_content": null,
            "align_items": null,
            "align_self": null,
            "border": null,
            "bottom": null,
            "display": null,
            "flex": null,
            "flex_flow": null,
            "grid_area": null,
            "grid_auto_columns": null,
            "grid_auto_flow": null,
            "grid_auto_rows": null,
            "grid_column": null,
            "grid_gap": null,
            "grid_row": null,
            "grid_template_areas": null,
            "grid_template_columns": null,
            "grid_template_rows": null,
            "height": null,
            "justify_content": null,
            "justify_items": null,
            "left": null,
            "margin": null,
            "max_height": null,
            "max_width": null,
            "min_height": null,
            "min_width": null,
            "object_fit": null,
            "object_position": null,
            "order": null,
            "overflow": null,
            "overflow_x": null,
            "overflow_y": null,
            "padding": null,
            "right": null,
            "top": null,
            "visibility": null,
            "width": null
          }
        },
        "3fa5e45154a144dc8e7ceca1e3b63ba9": {
          "model_module": "@jupyter-widgets/controls",
          "model_name": "ProgressStyleModel",
          "model_module_version": "1.5.0",
          "state": {
            "_model_module": "@jupyter-widgets/controls",
            "_model_module_version": "1.5.0",
            "_model_name": "ProgressStyleModel",
            "_view_count": null,
            "_view_module": "@jupyter-widgets/base",
            "_view_module_version": "1.2.0",
            "_view_name": "StyleView",
            "bar_color": null,
            "description_width": ""
          }
        },
        "11d8336dd84d4d9f88eb6344029431d1": {
          "model_module": "@jupyter-widgets/base",
          "model_name": "LayoutModel",
          "model_module_version": "1.2.0",
          "state": {
            "_model_module": "@jupyter-widgets/base",
            "_model_module_version": "1.2.0",
            "_model_name": "LayoutModel",
            "_view_count": null,
            "_view_module": "@jupyter-widgets/base",
            "_view_module_version": "1.2.0",
            "_view_name": "LayoutView",
            "align_content": null,
            "align_items": null,
            "align_self": null,
            "border": null,
            "bottom": null,
            "display": null,
            "flex": null,
            "flex_flow": null,
            "grid_area": null,
            "grid_auto_columns": null,
            "grid_auto_flow": null,
            "grid_auto_rows": null,
            "grid_column": null,
            "grid_gap": null,
            "grid_row": null,
            "grid_template_areas": null,
            "grid_template_columns": null,
            "grid_template_rows": null,
            "height": null,
            "justify_content": null,
            "justify_items": null,
            "left": null,
            "margin": null,
            "max_height": null,
            "max_width": null,
            "min_height": null,
            "min_width": null,
            "object_fit": null,
            "object_position": null,
            "order": null,
            "overflow": null,
            "overflow_x": null,
            "overflow_y": null,
            "padding": null,
            "right": null,
            "top": null,
            "visibility": null,
            "width": null
          }
        },
        "6743eebf70c64a3dbf786408f04525ba": {
          "model_module": "@jupyter-widgets/controls",
          "model_name": "DescriptionStyleModel",
          "model_module_version": "1.5.0",
          "state": {
            "_model_module": "@jupyter-widgets/controls",
            "_model_module_version": "1.5.0",
            "_model_name": "DescriptionStyleModel",
            "_view_count": null,
            "_view_module": "@jupyter-widgets/base",
            "_view_module_version": "1.2.0",
            "_view_name": "StyleView",
            "description_width": ""
          }
        }
      }
    }
  },
  "nbformat": 4,
  "nbformat_minor": 0
}